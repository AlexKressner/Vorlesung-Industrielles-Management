{
  "nbformat": 4,
  "nbformat_minor": 0,
  "metadata": {
    "colab": {
      "provenance": [],
      "authorship_tag": "ABX9TyPpOMsTgOybuVLtBKcZvGWD",
      "include_colab_link": true
    },
    "kernelspec": {
      "name": "python3",
      "display_name": "Python 3"
    },
    "language_info": {
      "name": "python"
    }
  },
  "cells": [
    {
      "cell_type": "markdown",
      "metadata": {
        "id": "view-in-github",
        "colab_type": "text"
      },
      "source": [
        "<a href=\"https://colab.research.google.com/github/AlexKressner/Vorlesung-Industrielles-Mangement/blob/main/%C3%9Cbungsaufgabe_Raffinerieproblem.ipynb\" target=\"_parent\"><img src=\"https://colab.research.google.com/assets/colab-badge.svg\" alt=\"Open In Colab\"/></a>"
      ]
    },
    {
      "cell_type": "markdown",
      "metadata": {
        "id": "b2fc884d"
      },
      "source": [
        "# Raffinerieproblem"
      ]
    },
    {
      "cell_type": "code",
      "execution_count": 73,
      "metadata": {
        "id": "cdb29647",
        "colab": {
          "base_uri": "https://localhost:8080/"
        },
        "outputId": "396bae9b-6825-4e0d-f646-5c5ee48411a7"
      },
      "outputs": [
        {
          "output_type": "stream",
          "name": "stdout",
          "text": [
            "\u001b[33mWARNING: Running pip as the 'root' user can result in broken permissions and conflicting behaviour with the system package manager. It is recommended to use a virtual environment instead: https://pip.pypa.io/warnings/venv\u001b[0m\u001b[33m\n",
            "\u001b[0m\u001b[33mWARNING: Running pip as the 'root' user can result in broken permissions and conflicting behaviour with the system package manager. It is recommended to use a virtual environment instead: https://pip.pypa.io/warnings/venv\u001b[0m\u001b[33m\n",
            "\u001b[0m"
          ]
        }
      ],
      "source": [
        "# Notwendigen Programminstallationen\n",
        "# pip als Paketmanager\n",
        "!pip install -U -q pip\n",
        "!pip install -q ortools\n",
        "# Laden des Programms\n",
        "from ortools.linear_solver import pywraplp"
      ]
    },
    {
      "cell_type": "code",
      "execution_count": 74,
      "metadata": {
        "id": "d8c0c7cc"
      },
      "outputs": [],
      "source": [
        "# Solver mit SCIP als Backend.\n",
        "# SCIP implementiert Simplex, Branch-and-Bound, etc\n",
        "solver = pywraplp.Solver.CreateSolver('SCIP')"
      ]
    },
    {
      "cell_type": "markdown",
      "metadata": {
        "id": "798a67ee"
      },
      "source": [
        "## Indexmengen"
      ]
    },
    {
      "cell_type": "code",
      "execution_count": 75,
      "metadata": {
        "id": "f9e0fd6f"
      },
      "outputs": [],
      "source": [
        "J = ['K1','K2','K3','K4'] # Menge der Kraftstoffe\n",
        "I = ['R1','R2','R3','Gesamtkapa'] # Menge der Produktionsressourcen"
      ]
    },
    {
      "cell_type": "code",
      "source": [
        "J"
      ],
      "metadata": {
        "colab": {
          "base_uri": "https://localhost:8080/"
        },
        "id": "HCzIMX68zF6g",
        "outputId": "5bd55782-4d2e-4dad-b717-0220cb23fb76"
      },
      "execution_count": 76,
      "outputs": [
        {
          "output_type": "execute_result",
          "data": {
            "text/plain": [
              "['K1', 'K2', 'K3', 'K4']"
            ]
          },
          "metadata": {},
          "execution_count": 76
        }
      ]
    },
    {
      "cell_type": "markdown",
      "metadata": {
        "id": "d1f9cf18"
      },
      "source": [
        "## Entscheidungsvariablen"
      ]
    },
    {
      "cell_type": "code",
      "execution_count": 77,
      "metadata": {
        "id": "f874ee25"
      },
      "outputs": [],
      "source": [
        "infinity = solver.infinity()"
      ]
    },
    {
      "cell_type": "code",
      "execution_count": 78,
      "metadata": {
        "id": "afb847d3",
        "colab": {
          "base_uri": "https://localhost:8080/"
        },
        "outputId": "be92b11c-b23a-479e-8b1e-cb5526f62ade"
      },
      "outputs": [
        {
          "output_type": "stream",
          "name": "stdout",
          "text": [
            "Anzahl Entscheidungsvariablen = 4\n"
          ]
        }
      ],
      "source": [
        "# Definition der Entscheidungsvariablen\n",
        "x={}\n",
        "for j in J: \n",
        "    x[j] = solver.NumVar(0.0, infinity, j)\n",
        "print('Anzahl Entscheidungsvariablen =', solver.NumVariables())"
      ]
    },
    {
      "cell_type": "markdown",
      "metadata": {
        "id": "b99b4ca0"
      },
      "source": [
        "## Parameter"
      ]
    },
    {
      "cell_type": "code",
      "execution_count": 79,
      "metadata": {
        "id": "8c26d910"
      },
      "outputs": [],
      "source": [
        "c={} # Deckungsbeiträge\n",
        "c['K1']=5\n",
        "c['K2']=8\n",
        "c['K3']=15\n",
        "c['K4']=3"
      ]
    },
    {
      "cell_type": "code",
      "execution_count": 80,
      "metadata": {
        "id": "4fe37ab3"
      },
      "outputs": [],
      "source": [
        "a={} # Produktionskoeffizienten, a[ij]\n",
        "a['R1']={'K1':1,'K2':1, 'K3':2,'K4':1,}\n",
        "a['R2']={'K1':2,'K2':1, 'K3':3,'K4':0,}\n",
        "a['R3']={'K1':0,'K2':1, 'K3':2,'K4':1,}\n",
        "a['Gesamtkapa']={'K1':1,'K2':1, 'K3':1,'K4':1,}"
      ]
    },
    {
      "cell_type": "code",
      "execution_count": 81,
      "metadata": {
        "id": "116263d8"
      },
      "outputs": [],
      "source": [
        "b={} # Kapazitäten Produktionsfaktoren\n",
        "b['R1']=1000\n",
        "b['R2']=500\n",
        "b['R3']=1500\n",
        "b['Gesamtkapa']=2250"
      ]
    },
    {
      "cell_type": "markdown",
      "metadata": {
        "id": "c9eede10"
      },
      "source": [
        "## Zielfunktion"
      ]
    },
    {
      "cell_type": "code",
      "execution_count": 82,
      "metadata": {
        "id": "954d02bf"
      },
      "outputs": [],
      "source": [
        "# Maximierung der gesamten Deckungsbeiträge\n",
        "solver.Maximize(sum(c[j]*x[j] for j in J))"
      ]
    },
    {
      "cell_type": "markdown",
      "metadata": {
        "id": "a8534816"
      },
      "source": [
        "## Nebenbedingungen"
      ]
    },
    {
      "cell_type": "code",
      "execution_count": 83,
      "metadata": {
        "id": "9accd7c3",
        "colab": {
          "base_uri": "https://localhost:8080/"
        },
        "outputId": "431f8f0a-fadb-467d-a382-f50f39c4b159"
      },
      "outputs": [
        {
          "output_type": "stream",
          "name": "stdout",
          "text": [
            "Anzahl Nebenbedingungen = 4\n"
          ]
        }
      ],
      "source": [
        "for i in I:\n",
        "    solver.Add(sum(a[i][j]*x[j] for j in J)<=b[i])\n",
        "print('Anzahl Nebenbedingungen =', solver.NumConstraints())"
      ]
    },
    {
      "cell_type": "code",
      "source": [
        "# Nebenbedingung Mindestkapazität Kraftstoff 1 (K1)\n",
        "solver.Add(x[\"K1\"]>=250)"
      ],
      "metadata": {
        "colab": {
          "base_uri": "https://localhost:8080/"
        },
        "id": "69Psut7akeRY",
        "outputId": "955d80b5-a66d-4a08-f8a2-b034d689c6c2"
      },
      "execution_count": 84,
      "outputs": [
        {
          "output_type": "execute_result",
          "data": {
            "text/plain": [
              "<ortools.linear_solver.pywraplp.Constraint; proxy of <Swig Object of type 'operations_research::MPConstraint *' at 0x7f7d4f261b40> >"
            ]
          },
          "metadata": {},
          "execution_count": 84
        }
      ]
    },
    {
      "cell_type": "markdown",
      "metadata": {
        "id": "9a459618"
      },
      "source": [
        "## Berechnung Lösung"
      ]
    },
    {
      "cell_type": "code",
      "execution_count": 85,
      "metadata": {
        "id": "b9005832",
        "colab": {
          "base_uri": "https://localhost:8080/"
        },
        "outputId": "cdf068bf-953c-4297-fb45-e55241e5c30e"
      },
      "outputs": [
        {
          "output_type": "stream",
          "name": "stdout",
          "text": [
            "LÖSUNG:\n",
            "Zielfunktionswert (Deckungsbeitrag) = 3500.0\n",
            "K1 = 250\n",
            "K2 = 0\n",
            "K3 = 0\n",
            "K4 = 750\n"
          ]
        }
      ],
      "source": [
        "status = solver.Solve()\n",
        "\n",
        "if status == pywraplp.Solver.OPTIMAL:\n",
        "    print('LÖSUNG:')\n",
        "    print('Zielfunktionswert (Deckungsbeitrag) =', solver.Objective().Value())\n",
        "    for j in J:\n",
        "        print(f'{j} =', round(x[j].solution_value()))\n",
        "else:\n",
        "    print('Problem hat keine Lösung')"
      ]
    },
    {
      "cell_type": "code",
      "execution_count": 85,
      "metadata": {
        "id": "4d84da39"
      },
      "outputs": [],
      "source": []
    }
  ]
}