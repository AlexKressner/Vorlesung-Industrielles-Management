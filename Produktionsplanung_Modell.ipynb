{
  "nbformat": 4,
  "nbformat_minor": 0,
  "metadata": {
    "colab": {
      "provenance": [],
      "collapsed_sections": [
        "FznCQVc5-wbh",
        "D87-db6w-wKF",
        "ZriT_5GT_wQL",
        "lUZoqj8e-wBa"
      ],
      "authorship_tag": "ABX9TyP0WJ5p9m9QHTHuL7z7KCXK",
      "include_colab_link": true
    },
    "kernelspec": {
      "name": "python3",
      "display_name": "Python 3"
    },
    "language_info": {
      "name": "python"
    }
  },
  "cells": [
    {
      "cell_type": "markdown",
      "metadata": {
        "id": "view-in-github",
        "colab_type": "text"
      },
      "source": [
        "<a href=\"https://colab.research.google.com/github/AlexKressner/Vorlesung-Industrielles-Management/blob/main/Produktionsplanung_Modell.ipynb\" target=\"_parent\"><img src=\"https://colab.research.google.com/assets/colab-badge.svg\" alt=\"Open In Colab\"/></a>"
      ]
    },
    {
      "cell_type": "markdown",
      "metadata": {
        "id": "b2fc884d"
      },
      "source": [
        "# Produktionsplanung\n",
        "## Capacitated Lot Sizing Problem (CLSP)"
      ]
    },
    {
      "cell_type": "markdown",
      "source": [
        "## Modell"
      ],
      "metadata": {
        "id": "eV_cjbhd-c2I"
      }
    },
    {
      "cell_type": "markdown",
      "source": [
        "### Indexmengen\n",
        "$p \\in P$ : Menge der Produkte\n",
        "\n",
        "$t \\in T$ : Menge der Planungsperioden (Wochen)\n",
        "\n"
      ],
      "metadata": {
        "id": "FznCQVc5-wbh"
      }
    },
    {
      "cell_type": "markdown",
      "source": [
        "### Parameter\n",
        "$cap_t$ : Kapazität der Abfüllanlage in Woche $t$\n",
        "\n",
        "$lc_{p}$ : Lagerkosten für Produkt $p$\n",
        "\n",
        "$rc_{p}$ : Rüstkosten für Produkt $p$\n",
        "\n",
        "$bz_p$ : Bearbeitungszeit für Produkt $p$\n",
        "\n",
        "$rz_p$ : Rüstzeit für Produkt $p$\n",
        "\n",
        "$d_{pt}$ : Nachfrage nach Produkt $p$ in Woche $t$"
      ],
      "metadata": {
        "id": "D87-db6w-wKF"
      }
    },
    {
      "cell_type": "markdown",
      "source": [
        "### Variablen\n",
        "$Q_{pt} \\ge 0$ : Produktionsmenge von Produkt $p$ in Woche $t$\n",
        "\n",
        "$B_{pt} \\ge 0$ : Lagerbestand von Produkt $p$ in Woche $t$\n",
        "\n",
        "$R_{pt} \\in \\{0,1\\}$ : Binäre Rüstvariable"
      ],
      "metadata": {
        "id": "ZriT_5GT_wQL"
      }
    },
    {
      "cell_type": "markdown",
      "source": [
        "### Zielfunktion\n",
        "Min $K = \\sum_{p,t} (rc_p * R_{p,t} + lc_p * B_{pt})$"
      ],
      "metadata": {
        "id": "lUZoqj8e-wBa"
      }
    },
    {
      "cell_type": "markdown",
      "source": [
        "### Nebenbedingungen"
      ],
      "metadata": {
        "id": "2x-xiFCP-v0l"
      }
    },
    {
      "cell_type": "markdown",
      "source": [
        "**(1) Lagerbilanzgleichung**\n",
        "\n",
        "$B_{pt} = B_{p,t-1} + Q_{pt} - d_{pt}$\n",
        "\n",
        "$∀ p, t$"
      ],
      "metadata": {
        "id": "6u_OSabxCAyB"
      }
    },
    {
      "cell_type": "markdown",
      "source": [
        "**(2) Produktionskapazitäten**\n",
        "\n",
        "$\\sum_{p} (bz_p * Q_{pt} + rz_p * R_{pt}) \\le cap_{t}$\n",
        "\n",
        "$∀ t$"
      ],
      "metadata": {
        "id": "hK_iqilARrsU"
      }
    },
    {
      "cell_type": "markdown",
      "source": [
        "**(3) Koppelung Produktions- mit Rüstentscheidung**\n",
        "\n",
        "$Q_{pt} \\le \\frac{cap_t}{bz_p} * R_{pt} $\n",
        "\n",
        "$∀ p, t$"
      ],
      "metadata": {
        "id": "fUhgNqZVSLHd"
      }
    }
  ]
}