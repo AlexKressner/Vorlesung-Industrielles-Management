{
  "nbformat": 4,
  "nbformat_minor": 0,
  "metadata": {
    "colab": {
      "provenance": [],
      "authorship_tag": "ABX9TyPpDGSKhScaQHusomCItquY",
      "include_colab_link": true
    },
    "kernelspec": {
      "name": "python3",
      "display_name": "Python 3"
    },
    "language_info": {
      "name": "python"
    }
  },
  "cells": [
    {
      "cell_type": "markdown",
      "metadata": {
        "id": "view-in-github",
        "colab_type": "text"
      },
      "source": [
        "<a href=\"https://colab.research.google.com/github/AlexKressner/Vorlesung-Industrielles-Management/blob/main/Erweiterung_%C3%9Cbungsaufgabe_Auswahlproblem_Spediteur.ipynb\" target=\"_parent\"><img src=\"https://colab.research.google.com/assets/colab-badge.svg\" alt=\"Open In Colab\"/></a>"
      ]
    },
    {
      "cell_type": "markdown",
      "metadata": {
        "id": "b2fc884d"
      },
      "source": [
        "# Auswahlproblem Spediteur"
      ]
    },
    {
      "cell_type": "code",
      "execution_count": null,
      "metadata": {
        "id": "cdb29647",
        "colab": {
          "base_uri": "https://localhost:8080/"
        },
        "outputId": "018e5248-752a-46a3-f14a-dd8c5395920f"
      },
      "outputs": [
        {
          "output_type": "stream",
          "name": "stdout",
          "text": [
            "\u001b[33mWARNING: Running pip as the 'root' user can result in broken permissions and conflicting behaviour with the system package manager. It is recommended to use a virtual environment instead: https://pip.pypa.io/warnings/venv\u001b[0m\u001b[33m\n",
            "\u001b[0m\u001b[33mWARNING: Running pip as the 'root' user can result in broken permissions and conflicting behaviour with the system package manager. It is recommended to use a virtual environment instead: https://pip.pypa.io/warnings/venv\u001b[0m\u001b[33m\n",
            "\u001b[0m"
          ]
        }
      ],
      "source": [
        "# Notwendigen Programminstallationen\n",
        "# pip als Paketmanager\n",
        "!pip install -U -q pip\n",
        "!pip install -q ortools\n",
        "# Laden des Programms\n",
        "from ortools.linear_solver import pywraplp"
      ]
    },
    {
      "cell_type": "code",
      "execution_count": null,
      "metadata": {
        "id": "d8c0c7cc"
      },
      "outputs": [],
      "source": [
        "# Solver mit SCIP als Backend.\n",
        "# SCIP implementiert Simplex, Branch-and-Bound, etc\n",
        "solver = pywraplp.Solver.CreateSolver('SCIP')"
      ]
    },
    {
      "cell_type": "markdown",
      "metadata": {
        "id": "798a67ee"
      },
      "source": [
        "## Indexmengen"
      ]
    },
    {
      "cell_type": "code",
      "execution_count": null,
      "metadata": {
        "id": "f9e0fd6f"
      },
      "outputs": [],
      "source": [
        "J = ['A1','A2','A3','A4','A5','A6'] # Menge der Aufträge"
      ]
    },
    {
      "cell_type": "code",
      "source": [
        "I = [\"LKW1\",\"LKW2\",\"LKW3\"]"
      ],
      "metadata": {
        "id": "HCzIMX68zF6g"
      },
      "execution_count": null,
      "outputs": []
    },
    {
      "cell_type": "markdown",
      "metadata": {
        "id": "d1f9cf18"
      },
      "source": [
        "## Entscheidungsvariablen"
      ]
    },
    {
      "cell_type": "code",
      "source": [
        "a=1\n",
        "b=1"
      ],
      "metadata": {
        "id": "dppexSeV7aeA"
      },
      "execution_count": null,
      "outputs": []
    },
    {
      "cell_type": "code",
      "source": [
        "f\"Summe von {a} und {b} ist: {a+b}\""
      ],
      "metadata": {
        "colab": {
          "base_uri": "https://localhost:8080/",
          "height": 37
        },
        "id": "ru6hme-I7dGF",
        "outputId": "7557d492-8a71-444a-9954-0704e5b5121d"
      },
      "execution_count": null,
      "outputs": [
        {
          "output_type": "execute_result",
          "data": {
            "text/plain": [
              "'Summe von 1 und 1 ist: 2'"
            ],
            "application/vnd.google.colaboratory.intrinsic+json": {
              "type": "string"
            }
          },
          "metadata": {},
          "execution_count": 6
        }
      ]
    },
    {
      "cell_type": "code",
      "execution_count": null,
      "metadata": {
        "id": "afb847d3",
        "colab": {
          "base_uri": "https://localhost:8080/"
        },
        "outputId": "bc7d1d9d-888d-44b5-e592-11835f44b2fa"
      },
      "outputs": [
        {
          "output_type": "stream",
          "name": "stdout",
          "text": [
            "Anzahl Entscheidungsvariablen = 18\n"
          ]
        }
      ],
      "source": [
        "# Definition der Entscheidungsvariablen\n",
        "x={}\n",
        "for j in J:\n",
        "  for i in I: \n",
        "    x[j,i] = solver.BoolVar(f\"{j,i}\")\n",
        "print('Anzahl Entscheidungsvariablen =', solver.NumVariables())"
      ]
    },
    {
      "cell_type": "markdown",
      "metadata": {
        "id": "b99b4ca0"
      },
      "source": [
        "## Parameter"
      ]
    },
    {
      "cell_type": "code",
      "execution_count": null,
      "metadata": {
        "id": "8c26d910"
      },
      "outputs": [],
      "source": [
        "c={} # Deckungsbeiträge\n",
        "c['A1']=10\n",
        "c['A2']=15\n",
        "c['A3']=25\n",
        "c['A4']=5\n",
        "c['A5']=11\n",
        "c['A6']=8"
      ]
    },
    {
      "cell_type": "code",
      "execution_count": null,
      "metadata": {
        "id": "4fe37ab3"
      },
      "outputs": [],
      "source": [
        "a={} # Volumen Aufträge\n",
        "a['A1']=3\n",
        "a['A2']=4.5\n",
        "a['A3']=9.25\n",
        "a['A4']=1.2\n",
        "a['A5']=4\n",
        "a['A6']=2.7"
      ]
    },
    {
      "cell_type": "code",
      "execution_count": null,
      "metadata": {
        "id": "116263d8"
      },
      "outputs": [],
      "source": [
        "# Kapazitäten LKW\n",
        "b = {}\n",
        "b[\"LKW1\"]=10\n",
        "b[\"LKW2\"]=8\n",
        "b[\"LKW3\"]=5"
      ]
    },
    {
      "cell_type": "markdown",
      "metadata": {
        "id": "c9eede10"
      },
      "source": [
        "## Zielfunktion"
      ]
    },
    {
      "cell_type": "code",
      "execution_count": null,
      "metadata": {
        "id": "954d02bf"
      },
      "outputs": [],
      "source": [
        "# Maximierung der gesamten Deckungsbeiträge\n",
        "solver.Maximize(sum(c[j]*x[j,i] for j in J for i in I))"
      ]
    },
    {
      "cell_type": "markdown",
      "metadata": {
        "id": "a8534816"
      },
      "source": [
        "## Nebenbedingungen"
      ]
    },
    {
      "cell_type": "code",
      "execution_count": null,
      "metadata": {
        "id": "9accd7c3"
      },
      "outputs": [],
      "source": [
        "# LKW Kapazitäten\n",
        "for i in I:\n",
        "  solver.Add(sum(a[j]*x[j,i] for j in J)<=b[i])\n",
        "\n",
        "# Einmalige Verladung\n",
        "for j in J:\n",
        "  solver.Add(sum(x[j,i] for i in I)<=1)"
      ]
    },
    {
      "cell_type": "markdown",
      "metadata": {
        "id": "9a459618"
      },
      "source": [
        "## Berechnung Lösung"
      ]
    },
    {
      "cell_type": "code",
      "execution_count": null,
      "metadata": {
        "id": "b9005832",
        "colab": {
          "base_uri": "https://localhost:8080/"
        },
        "outputId": "4e1ff481-5595-4df3-b8ed-12d885d7b56a"
      },
      "outputs": [
        {
          "output_type": "stream",
          "name": "stdout",
          "text": [
            "LÖSUNG:\n",
            "Zielfunktionswert (Deckungsbeitrag) = 64.0\n",
            "('LKW1', 'A3') = 1\n",
            "('LKW2', 'A4') = 1\n",
            "('LKW2', 'A5') = 1\n",
            "('LKW2', 'A6') = 1\n",
            "('LKW3', 'A2') = 1\n"
          ]
        }
      ],
      "source": [
        "status = solver.Solve()\n",
        "\n",
        "if status == pywraplp.Solver.OPTIMAL:\n",
        "    print('LÖSUNG:')\n",
        "    print('Zielfunktionswert (Deckungsbeitrag) =', solver.Objective().Value())\n",
        "    for i in I:\n",
        "      for j in J:\n",
        "        if x[j,i].solution_value()>0:\n",
        "          print(f'{i,j} =', round(x[j,i].solution_value()))\n",
        "else:\n",
        "    print('Problem hat keine Lösung')"
      ]
    },
    {
      "cell_type": "code",
      "execution_count": null,
      "metadata": {
        "id": "4d84da39"
      },
      "outputs": [],
      "source": []
    }
  ]
}