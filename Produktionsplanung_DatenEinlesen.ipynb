{
  "nbformat": 4,
  "nbformat_minor": 0,
  "metadata": {
    "colab": {
      "provenance": [],
      "collapsed_sections": [
        "eV_cjbhd-c2I",
        "FznCQVc5-wbh",
        "D87-db6w-wKF",
        "ZriT_5GT_wQL",
        "lUZoqj8e-wBa",
        "2x-xiFCP-v0l",
        "8T1IHcjpUBoZ",
        "muy4OW--8Dp5",
        "798a67ee",
        "d1f9cf18",
        "b99b4ca0",
        "c9eede10",
        "lT4f5UwcyzKS",
        "a8534816",
        "9a459618"
      ],
      "authorship_tag": "ABX9TyMmWfhYU+oDNB2HGoXsxSCz",
      "include_colab_link": true
    },
    "kernelspec": {
      "name": "python3",
      "display_name": "Python 3"
    },
    "language_info": {
      "name": "python"
    }
  },
  "cells": [
    {
      "cell_type": "markdown",
      "metadata": {
        "id": "view-in-github",
        "colab_type": "text"
      },
      "source": [
        "<a href=\"https://colab.research.google.com/github/AlexKressner/Vorlesung-Industrielles-Management/blob/main/Produktionsplanung_DatenEinlesen.ipynb\" target=\"_parent\"><img src=\"https://colab.research.google.com/assets/colab-badge.svg\" alt=\"Open In Colab\"/></a>"
      ]
    },
    {
      "cell_type": "markdown",
      "metadata": {
        "id": "b2fc884d"
      },
      "source": [
        "# Produktionsplanung\n",
        "## Capacitated Lot Sizing Problem (CLSP)"
      ]
    },
    {
      "cell_type": "markdown",
      "source": [
        "## Modell"
      ],
      "metadata": {
        "id": "eV_cjbhd-c2I"
      }
    },
    {
      "cell_type": "markdown",
      "source": [
        "### Indexmengen\n",
        "$p \\in P$ : Menge der Produkte\n",
        "\n",
        "$t \\in T$ : Menge der Planungsperioden (Wochen)\n",
        "\n"
      ],
      "metadata": {
        "id": "FznCQVc5-wbh"
      }
    },
    {
      "cell_type": "markdown",
      "source": [
        "### Parameter\n",
        "$cap_t$ : Kapazität der Abfüllanlage in Woche $t$\n",
        "\n",
        "$lc_{p}$ : Lagerkosten für Produkt $p$\n",
        "\n",
        "$rc_{p}$ : Rüstkosten für Produkt $p$\n",
        "\n",
        "$bz_p$ : Bearbeitungszeit für Produkt $p$\n",
        "\n",
        "$rz_p$ : Rüstzeit für Produkt $p$\n",
        "\n",
        "$d_{pt}$ : Nachfrage nach Produkt $p$ in Woche $t$"
      ],
      "metadata": {
        "id": "D87-db6w-wKF"
      }
    },
    {
      "cell_type": "markdown",
      "source": [
        "### Variablen\n",
        "$Q_{pt} \\ge 0$ : Produktionsmenge von Produkt $p$ in Woche $t$\n",
        "\n",
        "$B_{pt} \\ge 0$ : Lagerbestand von Produkt $p$ in Woche $t$\n",
        "\n",
        "$R_{pt} \\in \\{0,1\\}$ : Binäre Rüstvariable"
      ],
      "metadata": {
        "id": "ZriT_5GT_wQL"
      }
    },
    {
      "cell_type": "markdown",
      "source": [
        "### Zielfunktion\n",
        "Min $K = \\sum_{p,t} (rc_p * R_{p,t} + lc_p * B_{pt})$"
      ],
      "metadata": {
        "id": "lUZoqj8e-wBa"
      }
    },
    {
      "cell_type": "markdown",
      "source": [
        "### Nebenbedingungen"
      ],
      "metadata": {
        "id": "2x-xiFCP-v0l"
      }
    },
    {
      "cell_type": "markdown",
      "source": [
        "**(1) Lagerbilanzgleichung**\n",
        "\n",
        "$B_{pt} = B_{p,t-1} + Q_{pt} - d_{pt}$\n",
        "\n",
        "$∀ p, t$"
      ],
      "metadata": {
        "id": "6u_OSabxCAyB"
      }
    },
    {
      "cell_type": "markdown",
      "source": [
        "**(2) Produktionskapazitäten**\n",
        "\n",
        "$\\sum_{p} (bz_p * Q_{pt} + rz_p * R_{pt}) \\le pcap_{t}$\n",
        "\n",
        "$∀ t$"
      ],
      "metadata": {
        "id": "hK_iqilARrsU"
      }
    },
    {
      "cell_type": "markdown",
      "source": [
        "**(3) Koppelung Produktions- mit Rüstentscheidung**\n",
        "\n",
        "$Q_{pt} \\le \\frac{cap_t}{bz_p} * R_{pt} $\n",
        "\n",
        "$∀ p, t$"
      ],
      "metadata": {
        "id": "fUhgNqZVSLHd"
      }
    },
    {
      "cell_type": "markdown",
      "source": [
        "## Implementierung"
      ],
      "metadata": {
        "id": "8T1IHcjpUBoZ"
      }
    },
    {
      "cell_type": "code",
      "execution_count": null,
      "metadata": {
        "id": "cdb29647"
      },
      "outputs": [],
      "source": [
        "# Notwendigen Programminstallationen\n",
        "# pip als Paketmanager\n",
        "!pip install -U -q pip\n",
        "!pip install -q ortools\n",
        "# Laden des Programms\n",
        "from ortools.linear_solver import pywraplp"
      ]
    },
    {
      "cell_type": "code",
      "execution_count": null,
      "metadata": {
        "id": "d8c0c7cc"
      },
      "outputs": [],
      "source": [
        "# Solver mit SCIP als Backend.\n",
        "# SCIP implementiert Simplex, Branch-and-Bound, etc\n",
        "solver = pywraplp.Solver.CreateSolver('SCIP')"
      ]
    },
    {
      "cell_type": "markdown",
      "source": [
        "## Datenaufbereitung\n",
        "\n",
        "\n",
        "1.   Problemrelevante Daten in Google-Drive laden\n",
        "2.   Google-Drive mit Colab-Notebook verbinden\n",
        "3.   Daten mit `pandas` laden\n",
        "\n"
      ],
      "metadata": {
        "id": "muy4OW--8Dp5"
      }
    },
    {
      "cell_type": "code",
      "source": [
        "from google.colab import drive\n",
        "drive.mount('/content/drive')"
      ],
      "metadata": {
        "id": "DkkKC0dg82Cc"
      },
      "execution_count": null,
      "outputs": []
    },
    {
      "cell_type": "code",
      "source": [
        "# Ordner finden\n",
        "! ls drive/MyDrive/Industrielles_Management/Daten/Produktionsplanung"
      ],
      "metadata": {
        "id": "7MzXHG4B86Qx"
      },
      "execution_count": null,
      "outputs": []
    },
    {
      "cell_type": "code",
      "source": [
        "# Pfad zurückgeben\n",
        "! cd drive/MyDrive/Industrielles_Management/Daten/Produktionsplanung && pwd"
      ],
      "metadata": {
        "id": "kkXWmM2i-OB3"
      },
      "execution_count": null,
      "outputs": []
    },
    {
      "cell_type": "code",
      "source": [
        "# Daten laden\n",
        "import pandas as pd"
      ],
      "metadata": {
        "id": "2-oi6YL28FEt"
      },
      "execution_count": null,
      "outputs": []
    },
    {
      "cell_type": "code",
      "source": [
        "path = \"/content/drive/MyDrive/Industrielles_Management/Daten/Produktionsplanung\""
      ],
      "metadata": {
        "id": "m_knWvLgTtYP"
      },
      "execution_count": null,
      "outputs": []
    },
    {
      "cell_type": "code",
      "source": [
        "# Nachfrage\n",
        "nachfrage = pd.read_csv(f\"{path}/Nachfrage.csv\", sep=\";\")"
      ],
      "metadata": {
        "id": "uF0YYNBI8ILm"
      },
      "execution_count": null,
      "outputs": []
    },
    {
      "cell_type": "code",
      "source": [
        "nachfrage"
      ],
      "metadata": {
        "id": "EkihB5ZxIavj"
      },
      "execution_count": null,
      "outputs": []
    },
    {
      "cell_type": "code",
      "source": [
        "# Kosten & Zeiten\n",
        "kosten_zeiten = pd.read_csv(f\"{path}/Kosten_Zeiten.csv\", sep=\";\", decimal=\",\")"
      ],
      "metadata": {
        "id": "NTSilRdI-_B5"
      },
      "execution_count": null,
      "outputs": []
    },
    {
      "cell_type": "code",
      "source": [
        "kosten_zeiten"
      ],
      "metadata": {
        "id": "SOEzklioIbzb"
      },
      "execution_count": null,
      "outputs": []
    },
    {
      "cell_type": "markdown",
      "metadata": {
        "id": "798a67ee"
      },
      "source": [
        "## Indexmengen"
      ]
    },
    {
      "cell_type": "code",
      "source": [
        "P = nachfrage[\"Produkt\"].unique().tolist() # Menge der Produkte"
      ],
      "metadata": {
        "id": "ep4tx586Ze_f"
      },
      "execution_count": null,
      "outputs": []
    },
    {
      "cell_type": "code",
      "source": [
        "T = nachfrage[\"Woche\"].unique().tolist() # Menge der Planungsperioden (Wochen)"
      ],
      "metadata": {
        "id": "IxhGizoPNrPB"
      },
      "execution_count": null,
      "outputs": []
    },
    {
      "cell_type": "markdown",
      "metadata": {
        "id": "d1f9cf18"
      },
      "source": [
        "## Entscheidungsvariablen"
      ]
    },
    {
      "cell_type": "code",
      "source": [
        "infinity = solver.infinity()"
      ],
      "metadata": {
        "id": "KgIvlK2iAT_a"
      },
      "execution_count": null,
      "outputs": []
    },
    {
      "cell_type": "code",
      "source": [
        "# Produktionsmengen\n",
        "Q={}\n",
        "for p in P:\n",
        "  for t in T: \n",
        "    Q[p,t] = solver.NumVar(0.0, infinity, f\"{p},{t}\")"
      ],
      "metadata": {
        "id": "lbpazTPleD6g"
      },
      "execution_count": null,
      "outputs": []
    },
    {
      "cell_type": "code",
      "execution_count": null,
      "metadata": {
        "id": "afb847d3"
      },
      "outputs": [],
      "source": [
        "# Lagerbestand\n",
        "B={}\n",
        "for p in P:\n",
        "  for t in T:\n",
        "    B[p,t] = solver.NumVar(0.0, infinity, f\"{p},{t}\")"
      ]
    },
    {
      "cell_type": "code",
      "source": [
        "# Rüstvariablen\n",
        "R={}\n",
        "for p in P: \n",
        "  for t in T:\n",
        "        R[p,t] = solver.BoolVar(f\"{p},{t}\")"
      ],
      "metadata": {
        "id": "wMAg4KPFb3Ol"
      },
      "execution_count": null,
      "outputs": []
    },
    {
      "cell_type": "code",
      "source": [
        "print('Anzahl Entscheidungsvariablen =', solver.NumVariables())"
      ],
      "metadata": {
        "id": "hN6GY-5YBA9Y"
      },
      "execution_count": null,
      "outputs": []
    },
    {
      "cell_type": "markdown",
      "metadata": {
        "id": "b99b4ca0"
      },
      "source": [
        "## Parameter"
      ]
    },
    {
      "cell_type": "code",
      "source": [
        "# Kosten\n",
        "lc = kosten_zeiten.set_index([\"Produkt\"]).to_dict(\"dict\")[\"Lagerkosten\"]\n",
        "rc = kosten_zeiten.set_index([\"Produkt\"]).to_dict(\"dict\")[\"Rüstkosten\"]"
      ],
      "metadata": {
        "id": "LnaXtWEACWoU"
      },
      "execution_count": null,
      "outputs": []
    },
    {
      "cell_type": "code",
      "source": [
        "# Zeiten\n",
        "bz = kosten_zeiten.set_index([\"Produkt\"]).to_dict(\"dict\")[\"Bearbeitungszeit\"]\n",
        "rz = kosten_zeiten.set_index([\"Produkt\"]).to_dict(\"dict\")[\"Rüstzeit\"]"
      ],
      "metadata": {
        "id": "-k__H4DlP84P"
      },
      "execution_count": null,
      "outputs": []
    },
    {
      "cell_type": "code",
      "source": [
        "# Nachfrage\n",
        "d = nachfrage.set_index([\"Produkt\",\"Woche\"]).to_dict(\"dict\")[\"Nachfrage\"]"
      ],
      "metadata": {
        "id": "QvTVt7VaD1fC"
      },
      "execution_count": null,
      "outputs": []
    },
    {
      "cell_type": "code",
      "source": [
        "# Kapazitäten \n",
        "cap = {}\n",
        "for t in T:\n",
        "  cap[t] = 5760"
      ],
      "metadata": {
        "id": "ejN0ixdyEQCw"
      },
      "execution_count": null,
      "outputs": []
    },
    {
      "cell_type": "markdown",
      "metadata": {
        "id": "9a459618"
      },
      "source": [
        "## Berechnung Lösung"
      ]
    },
    {
      "cell_type": "code",
      "execution_count": null,
      "metadata": {
        "id": "b9005832"
      },
      "outputs": [],
      "source": [
        "status = solver.Solve()\n",
        "\n",
        "if status == pywraplp.Solver.OPTIMAL:\n",
        "    print('LÖSUNG:')\n",
        "    print('Zielfunktionswert (Kosten) =', solver.Objective().Value())\n",
        "else:\n",
        "    print('Problem hat keine Lösung')"
      ]
    },
    {
      "cell_type": "code",
      "execution_count": null,
      "metadata": {
        "id": "4d84da39"
      },
      "outputs": [],
      "source": [
        "for t in T:\n",
        "  print(f\"Woche: {t}\")\n",
        "  produzieren = sum(bz[p] * Q[p,t].solution_value() for p in P)\n",
        "  rüsten = sum(rz[p] * R[p,t].solution_value() for p in P)\n",
        "  print(f\"Produktionszeit: {round(produzieren)}\")\n",
        "  print(f\"Rüstzeit: {round(rüsten)}\")\n",
        "  print(f\"Summe: {round(rüsten+produzieren)}\")\n",
        "  \n",
        "  print(\"\\n\")\n"
      ]
    },
    {
      "cell_type": "code",
      "source": [],
      "metadata": {
        "id": "VTBSqfQPiK7H"
      },
      "execution_count": null,
      "outputs": []
    }
  ]
}