{
  "nbformat": 4,
  "nbformat_minor": 0,
  "metadata": {
    "colab": {
      "provenance": [],
      "collapsed_sections": [
        "eV_cjbhd-c2I",
        "2x-xiFCP-v0l",
        "8T1IHcjpUBoZ",
        "muy4OW--8Dp5",
        "798a67ee",
        "d1f9cf18",
        "b99b4ca0",
        "c9eede10",
        "a8534816",
        "9a459618"
      ],
      "authorship_tag": "ABX9TyNxXQ9cSiPKJ9QZEdxww8mj",
      "include_colab_link": true
    },
    "kernelspec": {
      "name": "python3",
      "display_name": "Python 3"
    },
    "language_info": {
      "name": "python"
    }
  },
  "cells": [
    {
      "cell_type": "markdown",
      "metadata": {
        "id": "view-in-github",
        "colab_type": "text"
      },
      "source": [
        "<a href=\"https://colab.research.google.com/github/AlexKressner/Vorlesung-Industrielles-Management/blob/main/MasterPlanning.ipynb\" target=\"_parent\"><img src=\"https://colab.research.google.com/assets/colab-badge.svg\" alt=\"Open In Colab\"/></a>"
      ]
    },
    {
      "cell_type": "markdown",
      "metadata": {
        "id": "b2fc884d"
      },
      "source": [
        "# Master Planning"
      ]
    },
    {
      "cell_type": "markdown",
      "source": [
        "## Modell"
      ],
      "metadata": {
        "id": "eV_cjbhd-c2I"
      }
    },
    {
      "cell_type": "markdown",
      "source": [
        "### Indexmengen\n",
        "$l \\in L$ : Menge der Lieferanten\n",
        "\n",
        "$i \\in I$ : Menge der Produktionsstandorte\n",
        "\n",
        "$j \\in J$ : Menge der Märkte\n",
        "\n",
        "$t \\in T$ : Menge der Wochen\n",
        "\n",
        "$p \\in P$ : Menge der Produkte\n",
        "\n",
        "$VP \\subseteq P$ : Menge der Vorprodukte\n",
        "\n",
        "$FP \\subseteq P$ : Menge der Fertigprodukte\n",
        "\n",
        "Es gilt $P=VP \\cup FP$ und $VP \\cap FP = \\emptyset$\n",
        "\n",
        "$A_p$ : Menge der Fertigprodukte, die Vorprodukt $p \\in VP$ enthalten\n",
        "\n"
      ],
      "metadata": {
        "id": "FznCQVc5-wbh"
      }
    },
    {
      "cell_type": "markdown",
      "source": [
        "### Variablen\n",
        "$Z_{lipt} \\ge 0$ : Beschaffungsmenge von Produkt $p$ bei Lieferant $i$ für Werk $i$ in Woche $t$\n",
        "\n",
        "$X_{ipt} \\ge 0$ : Produktionsmenge von Produkt $p$ am Werk $i$ in Woche $t$\n",
        "\n",
        "$O_{it} \\ge 0$ : Nutzung zusätzlicher Kapazitäten im Werk $i$ in Woche $t$\n",
        "\n",
        "$B_{ipt} \\ge 0$ : Bestand von Produkt $p$ im Werk $i$ in Woche $t$\n",
        "\n",
        "$Y_{ijpt} \\ge 0$ : Distributionsmenge von Werk $i$ in Markt $j$ von Produkt $p$ in Woche $t$"
      ],
      "metadata": {
        "id": "oubo97tD-wTd"
      }
    },
    {
      "cell_type": "markdown",
      "source": [
        "### Parameter\n",
        "\n",
        "$bc_{lp}$ : Kosten für die Beschaffung von Produkt $p$ von Lieferant $l$\n",
        "\n",
        "$btc_{lip}$ : Kosten für den Transport von Produkt $p$ von Lieferant $l$ zum Werk $i$\n",
        "\n",
        "$lc_{p}$ : Lagerkosten für Produkt $p$\n",
        "\n",
        "$pc_{ip}$ : Kosten für die Produktion von Produkt $p$ im Werk $i$\n",
        "\n",
        "$dtc_{ijp}$ : Kosten für den Transport von Produkt $p$ von Werk $i$ zum Markt $j$\n",
        "\n",
        "$oc^+_{i}$ : Kosten für Nutzung zusätzlicher Kapazitäten im Werk $i$\n",
        "\n",
        "$a_{pp'}$ : Direktbedarfskoeffizient Fertigprodukt $p'\\in FP$ für Vorprodukt $p \\in VP$, d.h wie viele Einheiten von Vorprodukt $p$ benötige ich zur Herstellung von Fertigprodukt $p'$\n",
        "\n",
        "$bcap_{lpt}$ : Beschaffungskapazitäten von Liefernant $l$ von Produkt $p$ in Woche $t$\n",
        "\n",
        "$pcap_{it}$ : Produktionskapazitäten von Werk $i$ in Woche $t$\n",
        "\n",
        "$pcap^+_{it}$ : Zusätzliche Produktionskapazitäten von Werk $i$ in Woche $t$\n",
        "\n",
        "$d_{jpt}$ : Nachfrage im Markt $j$ in Woche $t$"
      ],
      "metadata": {
        "id": "D87-db6w-wKF"
      }
    },
    {
      "cell_type": "markdown",
      "source": [
        "### Zielfunktion\n",
        "Min $K = \\sum_{l,i,p \\in VP,t} bc_{lp} * Z_{lipt} + \\sum_{l,i,p \\in VP,t} tbc_{lip} * Z_{lipt} + \\sum_{i,p \\in FP,t} pc_{ip} * X_{ipt} + \\sum_{i,p,t} lc_{p} * B_{ipt} + \\sum_{i,t} oc^+_{it} * O_{it} + \\sum_{i,j,p,t} dtc_{ijp} * Y_{ijpt}$"
      ],
      "metadata": {
        "id": "lUZoqj8e-wBa"
      }
    },
    {
      "cell_type": "markdown",
      "source": [
        "### Nebenbedingungen"
      ],
      "metadata": {
        "id": "2x-xiFCP-v0l"
      }
    },
    {
      "cell_type": "markdown",
      "source": [
        "**(1) Lieferantenkapazitäten**\n",
        "\n",
        "$\\sum_{i} Z_{lipt} \\le bcap_{lpt}$\n",
        "\n",
        "$∀ l,p \\in VP, t$\n"
      ],
      "metadata": {
        "id": "pTHXCyiH-fm5"
      }
    },
    {
      "cell_type": "markdown",
      "source": [
        "**(2) Produktionskapazitäten**\n",
        "\n",
        "$\\sum_{p \\in FP} X_{ipt} \\le pcap_{it} + O_{it}$\n",
        "\n",
        "$∀ i, t$"
      ],
      "metadata": {
        "id": "hK_iqilARrsU"
      }
    },
    {
      "cell_type": "markdown",
      "source": [
        "**(3) Beschränkung der Zusatzkapazitäten**\n",
        "\n",
        "$O_{it} \\le pcap^+_{it}$\n",
        "\n",
        "$∀ i, t$"
      ],
      "metadata": {
        "id": "fUhgNqZVSLHd"
      }
    },
    {
      "cell_type": "markdown",
      "source": [
        "**(4) Lagerbilanzgleichung für die Fertigprodukte**\n",
        "\n",
        "$B_{ipt} = B_{ip,t-1} + X_{ipt} - \\sum_j Y_{ijpt}$\n",
        "\n",
        "$∀ i,p \\in FP, t$"
      ],
      "metadata": {
        "id": "xXVmuyUXSbdP"
      }
    },
    {
      "cell_type": "markdown",
      "source": [
        "**(5) Lagerbilanzgleichung für die Vorprodukte**\n",
        "\n",
        "$B_{ipt} = B_{ip,t-1} + \\sum_l Z_{lipt} - \\sum_{p' \\in A_{p} } a_{pp'} * X_{ip't}$\n",
        "\n",
        "$∀ i,p \\in VP, t$"
      ],
      "metadata": {
        "id": "CouBBLECS--A"
      }
    },
    {
      "cell_type": "markdown",
      "source": [
        "**(6) Nachfragebefriedigung**\n",
        "\n",
        "$\\sum_i Y_{ijpt} = d_{jpt}$\n",
        "\n",
        "$∀ j,p \\in FP, t$"
      ],
      "metadata": {
        "id": "sEGkYUzsTZjH"
      }
    },
    {
      "cell_type": "markdown",
      "source": [
        "## Implementierung"
      ],
      "metadata": {
        "id": "8T1IHcjpUBoZ"
      }
    },
    {
      "cell_type": "code",
      "execution_count": 1,
      "metadata": {
        "id": "cdb29647",
        "colab": {
          "base_uri": "https://localhost:8080/"
        },
        "outputId": "c2ff08d1-27af-431f-c8c8-9f7aab873a48"
      },
      "outputs": [
        {
          "output_type": "stream",
          "name": "stdout",
          "text": [
            "\u001b[K     |████████████████████████████████| 2.1 MB 5.0 MB/s \n",
            "\u001b[2K     \u001b[90m━━━━━━━━━━━━━━━━━━━━━━━━━━━━━━━━━━━━━━━━\u001b[0m \u001b[32m16.3/16.3 MB\u001b[0m \u001b[31m12.8 MB/s\u001b[0m eta \u001b[36m0:00:00\u001b[0m\n",
            "\u001b[2K     \u001b[90m━━━━━━━━━━━━━━━━━━━━━━━━━━━━━━━━━━━━━━\u001b[0m \u001b[32m409.8/409.8 kB\u001b[0m \u001b[31m17.6 MB/s\u001b[0m eta \u001b[36m0:00:00\u001b[0m\n",
            "\u001b[?25h\u001b[31mERROR: pip's dependency resolver does not currently take into account all the packages that are installed. This behaviour is the source of the following dependency conflicts.\n",
            "tensorflow 2.9.2 requires protobuf<3.20,>=3.9.2, but you have protobuf 4.21.11 which is incompatible.\n",
            "tensorflow-metadata 1.11.0 requires protobuf<4,>=3.13, but you have protobuf 4.21.11 which is incompatible.\n",
            "tensorboard 2.9.1 requires protobuf<3.20,>=3.9.2, but you have protobuf 4.21.11 which is incompatible.\u001b[0m\u001b[31m\n",
            "\u001b[0m\u001b[33mWARNING: Running pip as the 'root' user can result in broken permissions and conflicting behaviour with the system package manager. It is recommended to use a virtual environment instead: https://pip.pypa.io/warnings/venv\u001b[0m\u001b[33m\n",
            "\u001b[0m"
          ]
        }
      ],
      "source": [
        "# Notwendigen Programminstallationen\n",
        "# pip als Paketmanager\n",
        "!pip install -U -q pip\n",
        "!pip install -q ortools\n",
        "# Laden des Programms\n",
        "from ortools.linear_solver import pywraplp"
      ]
    },
    {
      "cell_type": "code",
      "execution_count": 2,
      "metadata": {
        "id": "d8c0c7cc"
      },
      "outputs": [],
      "source": [
        "# Solver mit SCIP als Backend.\n",
        "# SCIP implementiert Simplex, Branch-and-Bound, etc\n",
        "solver = pywraplp.Solver.CreateSolver('SCIP')"
      ]
    },
    {
      "cell_type": "markdown",
      "source": [
        "## Datenaufbereitung\n",
        "\n",
        "\n",
        "1.   Problemrelevante Daten in Google-Drive laden\n",
        "2.   Google-Drive mit Colab-Notebook verbinden\n",
        "3.   Daten mit `pandas` laden\n",
        "\n"
      ],
      "metadata": {
        "id": "muy4OW--8Dp5"
      }
    },
    {
      "cell_type": "code",
      "source": [
        "from google.colab import drive\n",
        "drive.mount('/content/drive')"
      ],
      "metadata": {
        "colab": {
          "base_uri": "https://localhost:8080/"
        },
        "id": "DkkKC0dg82Cc",
        "outputId": "f6f5ce22-64ac-4751-a020-0f1dbfd4260c"
      },
      "execution_count": 3,
      "outputs": [
        {
          "output_type": "stream",
          "name": "stdout",
          "text": [
            "Mounted at /content/drive\n"
          ]
        }
      ]
    },
    {
      "cell_type": "code",
      "source": [
        "# Ordner finden\n",
        "! ls drive/MyDrive/Industrielles_Management/Daten/MasterPlanning"
      ],
      "metadata": {
        "colab": {
          "base_uri": "https://localhost:8080/"
        },
        "id": "7MzXHG4B86Qx",
        "outputId": "f4a58c86-7113-4576-d4f7-17cb4774ab21"
      },
      "execution_count": 4,
      "outputs": [
        {
          "output_type": "stream",
          "name": "stdout",
          "text": [
            "Beschaffungskapazitäten.csv\tProduktionskapazitäten.csv\n",
            "Beschaffungskosten.csv\t\tProduktionskosten.csv\n",
            "Direktbedarfskoeffizienten.csv\tTransportkosten_Beschaffung.csv\n",
            "Lagerkosten.csv\t\t\tTransportkosten_Distribution.csv\n",
            "Nachfrage.csv\n"
          ]
        }
      ]
    },
    {
      "cell_type": "code",
      "source": [
        "# Pfad zurückgeben\n",
        "! cd drive/MyDrive/Industrielles_Management/Daten/MasterPlanning && pwd"
      ],
      "metadata": {
        "colab": {
          "base_uri": "https://localhost:8080/"
        },
        "id": "kkXWmM2i-OB3",
        "outputId": "2783c313-7cbf-4c93-a8ca-b738601e0a09"
      },
      "execution_count": 5,
      "outputs": [
        {
          "output_type": "stream",
          "name": "stdout",
          "text": [
            "/content/drive/MyDrive/Industrielles_Management/Daten/MasterPlanning\n"
          ]
        }
      ]
    },
    {
      "cell_type": "code",
      "source": [
        "# Daten laden\n",
        "import pandas as pd"
      ],
      "metadata": {
        "id": "2-oi6YL28FEt"
      },
      "execution_count": 6,
      "outputs": []
    },
    {
      "cell_type": "code",
      "source": [
        "path = \"/content/drive/MyDrive/Industrielles_Management/Daten/MasterPlanning\""
      ],
      "metadata": {
        "id": "m_knWvLgTtYP"
      },
      "execution_count": 7,
      "outputs": []
    },
    {
      "cell_type": "code",
      "source": [
        "# Kapazitäten\n",
        "beschaffung_kapa = pd.read_csv(f\"{path}/Beschaffungskapazitäten.csv\", sep=\";\")\n",
        "produktion_kapa = pd.read_csv(f\"{path}/Produktionskapazitäten.csv\", sep=\";\")"
      ],
      "metadata": {
        "id": "uF0YYNBI8ILm"
      },
      "execution_count": 8,
      "outputs": []
    },
    {
      "cell_type": "code",
      "source": [
        "# Kosten\n",
        "produktion_kosten = pd.read_csv(f\"{path}/Produktionskosten.csv\", sep=\";\", decimal=\",\")\n",
        "beschaffung_kosten = pd.read_csv(f\"{path}/Beschaffungskosten.csv\", sep=\";\", decimal=\",\")\n",
        "lager_kosten = pd.read_csv(f\"{path}/Lagerkosten.csv\", sep=\";\", decimal=\",\")\n",
        "transport_beschaffung_kosten = pd.read_csv(f\"{path}/Transportkosten_Beschaffung.csv\", sep=\";\", decimal=\",\")\n",
        "transport_distribution_kosten = pd.read_csv(f\"{path}/Transportkosten_Distribution.csv\", sep=\";\", decimal=\",\")"
      ],
      "metadata": {
        "id": "NTSilRdI-_B5"
      },
      "execution_count": 9,
      "outputs": []
    },
    {
      "cell_type": "code",
      "source": [
        "# Direktbedarfskoeffizienten\n",
        "koeffizienten = pd.read_csv(f\"{path}/Direktbedarfskoeffizienten.csv\", sep=\";\", decimal=\",\")"
      ],
      "metadata": {
        "id": "B5B4psTSnc9C"
      },
      "execution_count": 10,
      "outputs": []
    },
    {
      "cell_type": "code",
      "source": [
        "# Nachfrage\n",
        "nachfrage = pd.read_csv(f\"{path}/Nachfrage.csv\", sep=\";\")"
      ],
      "metadata": {
        "id": "fDodTt1S_E7V"
      },
      "execution_count": 11,
      "outputs": []
    },
    {
      "cell_type": "markdown",
      "metadata": {
        "id": "798a67ee"
      },
      "source": [
        "## Indexmengen"
      ]
    },
    {
      "cell_type": "code",
      "source": [
        "I = produktion_kapa[\"Werk\"].unique().tolist() # Menge der Produktionsstandorte"
      ],
      "metadata": {
        "id": "goOwHnFj_ofs"
      },
      "execution_count": 12,
      "outputs": []
    },
    {
      "cell_type": "code",
      "execution_count": 13,
      "metadata": {
        "id": "f9e0fd6f"
      },
      "outputs": [],
      "source": [
        "J = nachfrage[\"Markt\"].unique().tolist() #Menge der Märkte"
      ]
    },
    {
      "cell_type": "code",
      "source": [
        "L = beschaffung_kapa[\"Lieferant\"].unique().tolist() # Menge der Lieferanten"
      ],
      "metadata": {
        "id": "p2M0U5RcZWjz"
      },
      "execution_count": 14,
      "outputs": []
    },
    {
      "cell_type": "code",
      "source": [
        "P = lager_kosten[\"Produkt\"].unique().tolist() # Menge der Produkte"
      ],
      "metadata": {
        "id": "ep4tx586Ze_f"
      },
      "execution_count": 15,
      "outputs": []
    },
    {
      "cell_type": "code",
      "source": [
        "VP = koeffizienten[\"Vorprodukt\"].unique().tolist() # Menge der Vorprodukte"
      ],
      "metadata": {
        "id": "iqY3icPuW7jj"
      },
      "execution_count": 16,
      "outputs": []
    },
    {
      "cell_type": "code",
      "source": [
        "FP = koeffizienten[\"Fertigprodukt\"].unique().tolist() # Menge der Fertigprodukte"
      ],
      "metadata": {
        "id": "-U0Bd_RKaoF0"
      },
      "execution_count": 17,
      "outputs": []
    },
    {
      "cell_type": "code",
      "source": [
        "A = {}\n",
        "for vp in koeffizienten[\"Vorprodukt\"].unique():\n",
        "  A[vp] = koeffizienten[koeffizienten[\"Vorprodukt\"]==vp][\"Fertigprodukt\"].tolist()"
      ],
      "metadata": {
        "id": "0USKjKQnr77U"
      },
      "execution_count": 18,
      "outputs": []
    },
    {
      "cell_type": "code",
      "source": [
        "T = beschaffung_kapa[\"Woche\"].unique().tolist() # Menge der Planungsperioden (Wochen)"
      ],
      "metadata": {
        "id": "IxhGizoPNrPB"
      },
      "execution_count": 19,
      "outputs": []
    },
    {
      "cell_type": "markdown",
      "metadata": {
        "id": "d1f9cf18"
      },
      "source": [
        "## Entscheidungsvariablen"
      ]
    },
    {
      "cell_type": "code",
      "source": [
        "infinity = solver.infinity()"
      ],
      "metadata": {
        "id": "KgIvlK2iAT_a"
      },
      "execution_count": 20,
      "outputs": []
    },
    {
      "cell_type": "code",
      "source": [
        "# Beschaffungsmengen der jeweiligen Vorprodukte (Flasche und Vitaminwasser)\n",
        "Z={}\n",
        "for l in L:\n",
        "  for i in I:\n",
        "    for p in VP:\n",
        "      for t in T: \n",
        "        Z[l,i,p,t] = solver.NumVar(0.0, infinity, f\"{l},{i},{p},{t}\")"
      ],
      "metadata": {
        "id": "lbpazTPleD6g"
      },
      "execution_count": 21,
      "outputs": []
    },
    {
      "cell_type": "code",
      "execution_count": 22,
      "metadata": {
        "id": "afb847d3"
      },
      "outputs": [],
      "source": [
        "# Produktionsmenge Fertigprodukte\n",
        "X={}\n",
        "for i in I:\n",
        "  for t in T:\n",
        "    for p in FP:\n",
        "      X[i,p,t] = solver.NumVar(0.0, infinity, f\"{i},{p},{t}\")"
      ]
    },
    {
      "cell_type": "code",
      "source": [
        "# Distributionsmenge Fertigprodukte\n",
        "Y={}\n",
        "for i in I:\n",
        "  for j in J:\n",
        "    for t in T: \n",
        "      for p in FP:\n",
        "        Y[i,j,p,t] = solver.NumVar(0.0, infinity, f\"{i},{j},{p},{t}\")"
      ],
      "metadata": {
        "id": "wMAg4KPFb3Ol"
      },
      "execution_count": 23,
      "outputs": []
    },
    {
      "cell_type": "code",
      "source": [
        "# Bestand von Produkt (Vor- und Fertigprodukt)\n",
        "B={}\n",
        "for i in I:\n",
        "  for p in P:\n",
        "    for t in T:\n",
        "      B[i,p,t] = solver.NumVar(0.0, infinity, f\"{i},{p},{t}\")"
      ],
      "metadata": {
        "id": "Bsht13r6Z4QR"
      },
      "execution_count": 24,
      "outputs": []
    },
    {
      "cell_type": "code",
      "source": [
        "# Nutzung von Zusatzkapazitäten\n",
        "O={}\n",
        "for i in I:\n",
        "    for t in T:\n",
        "      O[i,t] = solver.NumVar(0.0, infinity, f\"{i},{t}\")"
      ],
      "metadata": {
        "id": "shc6t3DGPKBs"
      },
      "execution_count": 25,
      "outputs": []
    },
    {
      "cell_type": "code",
      "source": [
        "print('Anzahl Entscheidungsvariablen =', solver.NumVariables())"
      ],
      "metadata": {
        "colab": {
          "base_uri": "https://localhost:8080/"
        },
        "id": "hN6GY-5YBA9Y",
        "outputId": "948359b1-2e84-433f-80cc-62367cff974e"
      },
      "execution_count": 26,
      "outputs": [
        {
          "output_type": "stream",
          "name": "stdout",
          "text": [
            "Anzahl Entscheidungsvariablen = 360\n"
          ]
        }
      ]
    },
    {
      "cell_type": "markdown",
      "metadata": {
        "id": "b99b4ca0"
      },
      "source": [
        "## Parameter"
      ]
    },
    {
      "cell_type": "code",
      "source": [
        "# Produktionskosten\n",
        "pc = produktion_kosten.set_index([\"Werk\",\"Produkt\"]).to_dict(\"dict\")[\"Produktionskosten\"] # Kosten reguläre Produktion in €/ME\n",
        "oc = produktion_kosten.set_index([\"Werk\"]).to_dict(\"dict\")[\"Kosten_pro_Zusatzkapa\"] # Kosten Zusatzkapazitäten in €/Kapazitätseinheit"
      ],
      "metadata": {
        "id": "LnaXtWEACWoU"
      },
      "execution_count": 27,
      "outputs": []
    },
    {
      "cell_type": "code",
      "source": [
        "# Beschaffungskosten\n",
        "beschaffung_kosten.set_index([\"Lieferant\",\"Produkt\"], inplace=True)\n",
        "bc = beschaffung_kosten.to_dict(\"dict\")[\"Beschaffungskosten\"] # Kosten der Beschaffung eines Produktes in €/ME"
      ],
      "metadata": {
        "id": "-k__H4DlP84P"
      },
      "execution_count": 28,
      "outputs": []
    },
    {
      "cell_type": "code",
      "source": [
        "# Transportkosten\n",
        "transport_beschaffung_kosten.set_index([\"Lieferant\",\"Werk\",\"Produkt\"], inplace=True)\n",
        "btc = transport_beschaffung_kosten.to_dict(\"dict\")[\"Transportkosten\"] # Kosten Transport bei Beschaffung in €/ME\n",
        "transport_distribution_kosten.set_index([\"Werk\",\"Markt\",\"Produkt\"], inplace=True)\n",
        "dtc = transport_distribution_kosten.to_dict(\"dict\")[\"Transportkosten\"] # Kosten Transport bei Distribution in €/ME"
      ],
      "metadata": {
        "id": "YlWu7CMzDvfn"
      },
      "execution_count": 29,
      "outputs": []
    },
    {
      "cell_type": "code",
      "source": [
        "# Lagerkosten\n",
        "lager_kosten.set_index([\"Produkt\"], inplace=True)\n",
        "lc = lager_kosten.to_dict(\"dict\")[\"Lagerkosten\"] # Kosten Lagerung in €/Woche/ME"
      ],
      "metadata": {
        "id": "QYV_zhQtS-Td"
      },
      "execution_count": 30,
      "outputs": []
    },
    {
      "cell_type": "code",
      "source": [
        "# Nachfrage\n",
        "nachfrage.set_index([\"Markt\",\"Produkt\",\"Woche\"], inplace=True)\n",
        "d = nachfrage.to_dict(\"dict\")[\"Nachfragemenge\"]"
      ],
      "metadata": {
        "id": "QvTVt7VaD1fC"
      },
      "execution_count": 31,
      "outputs": []
    },
    {
      "cell_type": "code",
      "source": [
        "# Direktbedarfskoeffiziente\n",
        "koeffizienten.set_index([\"Vorprodukt\",\"Fertigprodukt\"], inplace=True)\n",
        "a = koeffizienten.to_dict(\"dict\")[\"Direktbedarfskoeffizient\"]"
      ],
      "metadata": {
        "id": "QEISqxapofvx"
      },
      "execution_count": 32,
      "outputs": []
    },
    {
      "cell_type": "code",
      "source": [
        "# Kapazitäten \n",
        "produktion_kapa.set_index([\"Werk\",\"Woche\"], inplace=True)\n",
        "pcap = produktion_kapa.to_dict(\"dict\")[\"Kapaztiät\"]\n",
        "pcap_plus = produktion_kapa.to_dict(\"dict\")[\"Max_Kapa_durch_Zusatzschichten\"]\n",
        "beschaffung_kapa.set_index([\"Lieferant\",\"Produkt\",\"Woche\"], inplace=True)\n",
        "bcap = beschaffung_kapa.to_dict(\"dict\")[\"Kapazität\"]"
      ],
      "metadata": {
        "id": "ejN0ixdyEQCw"
      },
      "execution_count": 33,
      "outputs": []
    },
    {
      "cell_type": "markdown",
      "metadata": {
        "id": "c9eede10"
      },
      "source": [
        "## Zielfunktion"
      ]
    },
    {
      "cell_type": "markdown",
      "source": [
        "### Zielfunktion\n",
        "Min $K = \\sum_{l,i,p \\in VP,t} bc_{lp} * Z_{lipt} + \\sum_{l,i,p \\in VP,t} tbc_{lip} * Z_{lipt} + \\sum_{i,p \\in FP,t} pc_{ip} * X_{ipt} + \\sum_{i,p,t} lc_{p} * B_{ipt} + \\sum_{i,t} oc^+_{it} * O_{it} + \\sum_{i,j,p,t} dtc_{ijp} * Y_{ijpt}$"
      ],
      "metadata": {
        "id": "lT4f5UwcyzKS"
      }
    },
    {
      "cell_type": "code",
      "source": [
        "bc.get(('ErpoPlast', 'Vitaminwasser'),0)"
      ],
      "metadata": {
        "colab": {
          "base_uri": "https://localhost:8080/"
        },
        "id": "LI8rkIO3zCEP",
        "outputId": "1fc1432e-1525-47ba-d598-913e3c737e07"
      },
      "execution_count": 36,
      "outputs": [
        {
          "output_type": "execute_result",
          "data": {
            "text/plain": [
              "0"
            ]
          },
          "metadata": {},
          "execution_count": 36
        }
      ]
    },
    {
      "cell_type": "code",
      "execution_count": 37,
      "metadata": {
        "id": "954d02bf"
      },
      "outputs": [],
      "source": [
        "# Minimierung der gesamten Kosten\n",
        "solver.Minimize(\n",
        "    sum(bc.get((l,p),0) * Z[l,i,p,t] for l in L for i in I for p in VP for t in T) + # Kosten Beschaffung\n",
        "    sum(btc.get((l,i,p),0) * Z[l,i,p,t] for l in L for i in I for p in VP for t in T) + # Transportkosten Beschaffung\n",
        "    sum(pc[i,p]*X[i,p,t] for i in I for p in FP for t in T) + # Kosten der Produktion mit regulärer Kapazität\n",
        "    sum(oc[i]*O[i,t] for i in I for t in T) + # Kosten der Produktion mit zusätzlicher Kapazität\n",
        "    sum(lc[p]*B[i,p,t] for i in I for p in P for t in T) + # Kosten der Lagerung\n",
        "    sum(dtc[i,j,p]*Y[i,j,p,t] for i in I for j in J for p in FP for t in T) # Transportkosten Distribution\n",
        "    )"
      ]
    },
    {
      "cell_type": "markdown",
      "metadata": {
        "id": "a8534816"
      },
      "source": [
        "## Nebenbedingungen"
      ]
    },
    {
      "cell_type": "markdown",
      "source": [
        "**(1) Lieferantenkapazitäten**\n",
        "\n",
        "$\\sum_{i} Z_{lipt} \\le bcap_{lpt}$\n",
        "\n",
        "$∀ l,p \\in VP, t$"
      ],
      "metadata": {
        "id": "El09g3Zwh1pt"
      }
    },
    {
      "cell_type": "code",
      "source": [
        "for l in L:\n",
        "  for p in VP:\n",
        "    for t in T:\n",
        "      solver.Add(sum(Z[l,i,p,t] for i in I)<= bcap.get((l,p,t),0))"
      ],
      "metadata": {
        "id": "0q4H4wEGh3zw"
      },
      "execution_count": null,
      "outputs": []
    },
    {
      "cell_type": "markdown",
      "source": [
        "**(2) Produktionskapazitäten**\n",
        "\n",
        "$\\sum_{p \\in FP} X_{ipt} \\le pcap_{it} + O_{it}$\n",
        "\n",
        "$∀ i, t$"
      ],
      "metadata": {
        "id": "359dUj_PiGwf"
      }
    },
    {
      "cell_type": "code",
      "source": [
        "for i in I:\n",
        "  for t in T:\n",
        "    solver.Add(sum(X[i,p,t] for p in FP) <= pcap[i,t] + O[i,t])"
      ],
      "metadata": {
        "id": "tHRFE139iIBv"
      },
      "execution_count": null,
      "outputs": []
    },
    {
      "cell_type": "markdown",
      "source": [
        "**(3) Beschränkung der Zusatzkapazitäten**\n",
        "\n",
        "$O_{it} \\le pcap^+_{it}$\n",
        "\n",
        "$∀ i, t$"
      ],
      "metadata": {
        "id": "oq1__uNxiShX"
      }
    },
    {
      "cell_type": "code",
      "source": [
        "for i in I:\n",
        "  for t in T:\n",
        "    solver.Add(O[i,t] <= pcap_plus[i,t])"
      ],
      "metadata": {
        "id": "zIF3XqSOiTAi"
      },
      "execution_count": null,
      "outputs": []
    },
    {
      "cell_type": "markdown",
      "source": [
        "**(4) Lagerbilanzgleichung für die Fertigprodukte**\n",
        "\n",
        "$B_{ipt} = B_{ip,t-1} + X_{ipt} - \\sum_j Y_{ijpt}$\n",
        "\n",
        "$∀ i,p \\in FP, t$"
      ],
      "metadata": {
        "id": "oPX0LIibijUg"
      }
    },
    {
      "cell_type": "code",
      "source": [
        "for i in I:\n",
        "  for p in FP:\n",
        "    for t in T:\n",
        "        solver.Add(B[i,p,t] == B.get((i,p,t-1),0) + X[i,p,t] - sum(Y[i,j,p,t] for j in J))"
      ],
      "metadata": {
        "id": "PyWmhQM3ij1T"
      },
      "execution_count": null,
      "outputs": []
    },
    {
      "cell_type": "markdown",
      "source": [
        "**(5) Lagerbilanzgleichung für die Vorprodukte**\n",
        "\n",
        "$B_{ipt} = B_{ip,t-1} + \\sum_l Z_{lipt} - \\sum_{p' \\in A_{p} } a_{pp'} * X_{ip't}$\n",
        "\n",
        "$∀ i,p \\in VP, t$"
      ],
      "metadata": {
        "id": "ck7OV3FTi7jG"
      }
    },
    {
      "cell_type": "code",
      "source": [
        "for i in I:\n",
        "  for p in VP:\n",
        "    for t in T:\n",
        "      solver.Add(B[i,p,t] == B.get((i,p,t-1),0) + sum(Z[l,i,p,t] for l in L) - sum(a[p,p_strich] * X[i,p_strich,t] for p_strich in A[p]))"
      ],
      "metadata": {
        "id": "1ulrpRvqi8Bn"
      },
      "execution_count": null,
      "outputs": []
    },
    {
      "cell_type": "markdown",
      "source": [
        "**(6) Nachfragebefriedigung**\n",
        "\n",
        "$\\sum_i Y_{ijpt} = d_{jpt}$\n",
        "\n",
        "$∀ j,p \\in FP, t$"
      ],
      "metadata": {
        "id": "Wg8dhPiBjPSd"
      }
    },
    {
      "cell_type": "code",
      "source": [
        "for j in J:\n",
        "  for t in T:\n",
        "    for p in FP:\n",
        "      solver.Add(sum(Y[i,j,p,t] for i in I) == d[j,p,t])"
      ],
      "metadata": {
        "id": "ZYJzH8eQjPzT"
      },
      "execution_count": null,
      "outputs": []
    },
    {
      "cell_type": "markdown",
      "metadata": {
        "id": "9a459618"
      },
      "source": [
        "## Berechnung Lösung"
      ]
    },
    {
      "cell_type": "code",
      "execution_count": null,
      "metadata": {
        "id": "b9005832",
        "colab": {
          "base_uri": "https://localhost:8080/"
        },
        "outputId": "0d281d47-39ab-45c1-8838-83c93dbe24cb"
      },
      "outputs": [
        {
          "output_type": "stream",
          "name": "stdout",
          "text": [
            "LÖSUNG:\n",
            "Zielfunktionswert (Kosten) = 30257.260000000002\n"
          ]
        }
      ],
      "source": [
        "status = solver.Solve()\n",
        "\n",
        "if status == pywraplp.Solver.OPTIMAL:\n",
        "    print('LÖSUNG:')\n",
        "    print('Zielfunktionswert (Kosten) =', solver.Objective().Value())\n",
        "else:\n",
        "    print('Problem hat keine Lösung')"
      ]
    },
    {
      "cell_type": "code",
      "execution_count": null,
      "metadata": {
        "id": "4d84da39",
        "colab": {
          "base_uri": "https://localhost:8080/"
        },
        "outputId": "4fc1582f-55fc-431b-e1a2-dee218e505ec"
      },
      "outputs": [
        {
          "output_type": "stream",
          "name": "stdout",
          "text": [
            "Woche: 1\n",
            "Werk Curitiba\n",
            "Produktion: 82\n",
            "Fertigwarenbestand: 0\n",
            "\t\n",
            "Werk Quanzhou\n",
            "Produktion: 250\n",
            "Fertigwarenbestand: 42\n",
            "\t\n",
            "Werk East London\n",
            "Produktion: 250\n",
            "Fertigwarenbestand: 0\n",
            "\t\n",
            "\n",
            "\n",
            "Woche: 2\n",
            "Werk Curitiba\n",
            "Produktion: 72\n",
            "Fertigwarenbestand: 2\n",
            "\t\n",
            "Werk Quanzhou\n",
            "Produktion: 253\n",
            "Fertigwarenbestand: 10\n",
            "\t\n",
            "Werk East London\n",
            "Produktion: 235\n",
            "Fertigwarenbestand: 0\n",
            "\t\n",
            "\n",
            "\n",
            "Woche: 3\n",
            "Werk Curitiba\n",
            "Produktion: 78\n",
            "Fertigwarenbestand: 0\n",
            "\t\n",
            "Werk Quanzhou\n",
            "Produktion: 168\n",
            "Fertigwarenbestand: 0\n",
            "\t\n",
            "Werk East London\n",
            "Produktion: 223\n",
            "Fertigwarenbestand: 0\n",
            "\t\n",
            "\n",
            "\n",
            "Woche: 4\n",
            "Fertigwarenbestand: 0\n",
            "\t\n",
            "Werk Quanzhou\n",
            "Produktion: 212\n",
            "Fertigwarenbestand: 22\n",
            "\t\n",
            "Werk East London\n",
            "Produktion: 218\n",
            "Fertigwarenbestand: 0\n",
            "\t\n",
            "\n",
            "\n",
            "Woche: 5\n",
            "Werk Curitiba\n",
            "Produktion: 123\n",
            "Fertigwarenbestand: 0\n",
            "\t\n",
            "Werk Quanzhou\n",
            "Produktion: 150\n",
            "Fertigwarenbestand: 0\n",
            "\t\n",
            "Werk East London\n",
            "Produktion: 275\n",
            "Fertigwarenbestand: 0\n",
            "\t\n",
            "\n",
            "\n"
          ]
        }
      ],
      "source": [
        "for t in T:\n",
        "  print(f\"Woche: {t}\")\n",
        "  for i in I:\n",
        "    for p in FP:\n",
        "      val = round(X[i,p,t].solution_value())\n",
        "    if val > 0:\n",
        "      print(f\"Werk {i}\")\n",
        "      print(f\"Produktion: {val}\")\n",
        "    print(f\"Fertigwarenbestand: {round(B[i,p,t].solution_value())}\")\n",
        "    print(\"\\t\")\n",
        "  print(\"\\n\")\n"
      ]
    },
    {
      "cell_type": "code",
      "source": [],
      "metadata": {
        "id": "VTBSqfQPiK7H"
      },
      "execution_count": null,
      "outputs": []
    }
  ]
}