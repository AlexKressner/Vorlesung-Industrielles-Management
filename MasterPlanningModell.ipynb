{
  "nbformat": 4,
  "nbformat_minor": 0,
  "metadata": {
    "colab": {
      "provenance": [],
      "collapsed_sections": [
        "8T1IHcjpUBoZ",
        "muy4OW--8Dp5",
        "798a67ee",
        "d1f9cf18",
        "b99b4ca0",
        "9a459618"
      ],
      "authorship_tag": "ABX9TyMbM3GvICUvEfeV/PuStSgQ",
      "include_colab_link": true
    },
    "kernelspec": {
      "name": "python3",
      "display_name": "Python 3"
    },
    "language_info": {
      "name": "python"
    }
  },
  "cells": [
    {
      "cell_type": "markdown",
      "metadata": {
        "id": "view-in-github",
        "colab_type": "text"
      },
      "source": [
        "<a href=\"https://colab.research.google.com/github/AlexKressner/Vorlesung-Industrielles-Management/blob/main/MasterPlanningModell.ipynb\" target=\"_parent\"><img src=\"https://colab.research.google.com/assets/colab-badge.svg\" alt=\"Open In Colab\"/></a>"
      ]
    },
    {
      "cell_type": "markdown",
      "metadata": {
        "id": "b2fc884d"
      },
      "source": [
        "# Master Planning"
      ]
    },
    {
      "cell_type": "markdown",
      "source": [
        "## Modell"
      ],
      "metadata": {
        "id": "eV_cjbhd-c2I"
      }
    },
    {
      "cell_type": "markdown",
      "source": [
        "### Indexmengen\n",
        "$l \\in L$ : Menge der Lieferanten\n",
        "\n",
        "$i \\in I$ : Menge der Produktionsstandorte\n",
        "\n",
        "$j \\in J$ : Menge der Märkte\n",
        "\n",
        "$t \\in T$ : Menge der Wochen\n",
        "\n",
        "$p \\in P$ : Menge der Produkte\n",
        "\n",
        "$VP \\subseteq P$ : Menge der Vorprodukte\n",
        "\n",
        "$FP \\subseteq P$ : Menge der Fertigprodukte\n",
        "\n",
        "Es gilt $P=VP \\cup FP$ und $VP \\cap FP = \\emptyset$\n",
        "\n",
        "$A_p$ : Menge der Fertigprodukte, die Vorprodukt $p \\in VP$ enthalten\n",
        "\n"
      ],
      "metadata": {
        "id": "FznCQVc5-wbh"
      }
    },
    {
      "cell_type": "markdown",
      "source": [
        "### Variablen\n",
        "$Z_{lipt} \\ge 0$ : Beschaffungsmenge von Produkt $p$ bei Lieferant $i$ für Werk $i$ in Woche $t$\n",
        "\n",
        "$X_{ipt} \\ge 0$ : Produktionsmenge von Produkt $p$ am Werk $i$ in Woche $t$\n",
        "\n",
        "$O_{it} \\ge 0$ : Nutzung zusätzlicher Kapazitäten im Werk $i$ in Woche $t$\n",
        "\n",
        "$B_{ipt} \\ge 0$ : Bestand von Produkt $p$ im Werk $i$ in Woche $t$\n",
        "\n",
        "$Y_{ijpt} \\ge 0$ : Distributionsmenge von Werk $i$ in Markt $j$ von Produkt $p$ in Woche $t$"
      ],
      "metadata": {
        "id": "oubo97tD-wTd"
      }
    },
    {
      "cell_type": "markdown",
      "source": [
        "### Parameter\n",
        "\n",
        "$bc_{lp}$ : Kosten für die Beschaffung von Produkt $p$ von Lieferant $l$\n",
        "\n",
        "$btc_{lip}$ : Kosten für den Transport von Produkt $p$ von Lieferant $l$ zum Werk $i$\n",
        "\n",
        "$lc_{p}$ : Lagerkosten für Produkt $p$\n",
        "\n",
        "$pc_{ip}$ : Kosten für die Produktion von Produkt $p$ im Werk $i$\n",
        "\n",
        "$dtc_{ijp}$ : Kosten für den Transport von Produkt $p$ von Werk $i$ zum Markt $j$\n",
        "\n",
        "$oc^+_{i}$ : Kosten für Nutzung zusätzlicher Kapazitäten im Werk $i$\n",
        "\n",
        "$a_{pp'}$ : Direktbedarfskoeffizient Fertigprodukt $p'\\in FP$ für Vorprodukt $p \\in VP$, d.h wie viele Einheiten von Vorprodukt $p$ benötige ich zur Herstellung von Fertigprodukt $p'$\n",
        "\n",
        "$bcap_{lpt}$ : Beschaffungskapazitäten von Liefernant $l$ von Produkt $p$ in Woche $t$\n",
        "\n",
        "$pcap_{it}$ : Produktionskapazitäten von Werk $i$ in Woche $t$\n",
        "\n",
        "$pcap^+_{it}$ : Zusätzliche Produktionskapazitäten von Werk $i$ in Woche $t$\n",
        "\n",
        "$d_{jpt}$ : Nachfrage im Markt $j$ in Woche $t$"
      ],
      "metadata": {
        "id": "D87-db6w-wKF"
      }
    },
    {
      "cell_type": "markdown",
      "source": [
        "### Zielfunktion\n",
        "Min $K = \\sum_{l,i,p \\in VP,t} bc_{lp} * Z_{lipt} + \\sum_{l,i,p \\in VP,t} tbc_{lip} * Z_{lipt} + \\sum_{i,p \\in FP,t} pc_{ip} * X_{ipt} + \\sum_{i,p,t} lc_{p} * B_{ipt} + \\sum_{i,t} oc^+_{it} * O_{it} + \\sum_{i,j,p,t} dtc_{ijp} * Y_{ijpt}$"
      ],
      "metadata": {
        "id": "lUZoqj8e-wBa"
      }
    },
    {
      "cell_type": "markdown",
      "source": [
        "### Nebenbedingungen"
      ],
      "metadata": {
        "id": "2x-xiFCP-v0l"
      }
    },
    {
      "cell_type": "markdown",
      "source": [
        "**(1) Lieferantenkapazitäten**\n",
        "\n",
        "$\\sum_{i} Z_{lipt} \\le bcap_{lpt}$\n",
        "\n",
        "$∀ l,p \\in VP, t$\n"
      ],
      "metadata": {
        "id": "pTHXCyiH-fm5"
      }
    },
    {
      "cell_type": "markdown",
      "source": [
        "**(2) Produktionskapazitäten**\n",
        "\n",
        "$\\sum_{p \\in FP} X_{ipt} \\le pcap_{it} + O_{it}$\n",
        "\n",
        "$∀ i, t$"
      ],
      "metadata": {
        "id": "hK_iqilARrsU"
      }
    },
    {
      "cell_type": "markdown",
      "source": [
        "**(3) Beschränkung der Zusatzkapazitäten**\n",
        "\n",
        "$O_{it} \\le pcap^+_{it}$\n",
        "\n",
        "$∀ i, t$"
      ],
      "metadata": {
        "id": "fUhgNqZVSLHd"
      }
    },
    {
      "cell_type": "markdown",
      "source": [
        "**(4) Lagerbilanzgleichung für die Fertigprodukte**\n",
        "\n",
        "$B_{ipt} = B_{ip,t-1} + X_{ipt} - \\sum_j Y_{ijpt}$\n",
        "\n",
        "$∀ i,p \\in FP, t$"
      ],
      "metadata": {
        "id": "xXVmuyUXSbdP"
      }
    },
    {
      "cell_type": "markdown",
      "source": [
        "**(5) Lagerbilanzgleichung für die Vorprodukte**\n",
        "\n",
        "$B_{ipt} = B_{ip,t-1} + \\sum_l Z_{lipt} - \\sum_{p' \\in A_{p} } a_{pp'} * X_{ip't}$\n",
        "\n",
        "$∀ i,p \\in VP, t$"
      ],
      "metadata": {
        "id": "CouBBLECS--A"
      }
    },
    {
      "cell_type": "markdown",
      "source": [
        "**(6) Nachfragebefriedigung**\n",
        "\n",
        "$\\sum_i Y_{ijpt} = d_{jpt}$\n",
        "\n",
        "$∀ j,p \\in FP, t$"
      ],
      "metadata": {
        "id": "sEGkYUzsTZjH"
      }
    },
    {
      "cell_type": "markdown",
      "source": [
        "## Implementierung"
      ],
      "metadata": {
        "id": "8T1IHcjpUBoZ"
      }
    },
    {
      "cell_type": "code",
      "execution_count": null,
      "metadata": {
        "id": "cdb29647",
        "colab": {
          "base_uri": "https://localhost:8080/"
        },
        "outputId": "7f2b4c25-cc20-4a14-c587-07bb1ecf6330"
      },
      "outputs": [
        {
          "output_type": "stream",
          "name": "stdout",
          "text": [
            "\u001b[33mWARNING: Running pip as the 'root' user can result in broken permissions and conflicting behaviour with the system package manager. It is recommended to use a virtual environment instead: https://pip.pypa.io/warnings/venv\u001b[0m\u001b[33m\n",
            "\u001b[0m\u001b[33mWARNING: Running pip as the 'root' user can result in broken permissions and conflicting behaviour with the system package manager. It is recommended to use a virtual environment instead: https://pip.pypa.io/warnings/venv\u001b[0m\u001b[33m\n",
            "\u001b[0m"
          ]
        }
      ],
      "source": [
        "# Notwendigen Programminstallationen\n",
        "# pip als Paketmanager\n",
        "!pip install -U -q pip\n",
        "!pip install -q ortools\n",
        "# Laden des Programms\n",
        "from ortools.linear_solver import pywraplp"
      ]
    },
    {
      "cell_type": "code",
      "execution_count": null,
      "metadata": {
        "id": "d8c0c7cc"
      },
      "outputs": [],
      "source": [
        "# Solver mit SCIP als Backend.\n",
        "# SCIP implementiert Simplex, Branch-and-Bound, etc\n",
        "solver = pywraplp.Solver.CreateSolver('SCIP')"
      ]
    },
    {
      "cell_type": "markdown",
      "source": [
        "## Datenaufbereitung\n",
        "\n"
      ],
      "metadata": {
        "id": "muy4OW--8Dp5"
      }
    },
    {
      "cell_type": "code",
      "source": [
        "from google.colab import drive\n",
        "drive.mount('/content/drive')"
      ],
      "metadata": {
        "colab": {
          "base_uri": "https://localhost:8080/"
        },
        "id": "DkkKC0dg82Cc",
        "outputId": "ba06c4b7-ba8d-433a-bb33-640ad7f4c5b9"
      },
      "execution_count": null,
      "outputs": [
        {
          "output_type": "stream",
          "name": "stdout",
          "text": [
            "Drive already mounted at /content/drive; to attempt to forcibly remount, call drive.mount(\"/content/drive\", force_remount=True).\n"
          ]
        }
      ]
    },
    {
      "cell_type": "code",
      "source": [
        "# Ordner finden\n",
        "! ls drive/MyDrive/Industrielles_Management/Daten/MasterPlanning"
      ],
      "metadata": {
        "colab": {
          "base_uri": "https://localhost:8080/"
        },
        "id": "7MzXHG4B86Qx",
        "outputId": "6275de51-d4cd-4472-8a04-b943b12c991e"
      },
      "execution_count": null,
      "outputs": [
        {
          "output_type": "stream",
          "name": "stdout",
          "text": [
            "Beschaffungskapazitäten.csv\tProduktionskapazitäten.csv\n",
            "Beschaffungskosten.csv\t\tProduktionskosten.csv\n",
            "Direktbedarfskoeffizienten.csv\tTransportkosten_Beschaffung.csv\n",
            "Lagerkosten.csv\t\t\tTransportkosten_Distribution.csv\n",
            "Nachfrage.csv\n"
          ]
        }
      ]
    },
    {
      "cell_type": "code",
      "source": [
        "# Pfad zurückgeben\n",
        "! cd drive/MyDrive/Industrielles_Management/Daten/MasterPlanning && pwd"
      ],
      "metadata": {
        "colab": {
          "base_uri": "https://localhost:8080/"
        },
        "id": "kkXWmM2i-OB3",
        "outputId": "d2505b2a-1688-4bff-f920-bffa1460f464"
      },
      "execution_count": null,
      "outputs": [
        {
          "output_type": "stream",
          "name": "stdout",
          "text": [
            "/content/drive/MyDrive/Industrielles_Management/Daten/MasterPlanning\n"
          ]
        }
      ]
    },
    {
      "cell_type": "code",
      "source": [
        "# Daten laden\n",
        "import pandas as pd"
      ],
      "metadata": {
        "id": "2-oi6YL28FEt"
      },
      "execution_count": null,
      "outputs": []
    },
    {
      "cell_type": "code",
      "source": [
        "path = \"/content/drive/MyDrive/Industrielles_Management/Daten/MasterPlanning\""
      ],
      "metadata": {
        "id": "m_knWvLgTtYP"
      },
      "execution_count": null,
      "outputs": []
    },
    {
      "cell_type": "code",
      "source": [
        "# Kapazitäten\n",
        "beschaffung_kapa = pd.read_csv(f\"{path}/Beschaffungskapazitäten.csv\", sep=\";\")\n",
        "produktion_kapa = pd.read_csv(f\"{path}/Produktionskapazitäten.csv\", sep=\";\")"
      ],
      "metadata": {
        "id": "uF0YYNBI8ILm"
      },
      "execution_count": null,
      "outputs": []
    },
    {
      "cell_type": "code",
      "source": [
        "# Kosten\n",
        "produktion_kosten = pd.read_csv(f\"{path}/Produktionskosten.csv\", sep=\";\", decimal=\",\")\n",
        "beschaffung_kosten = pd.read_csv(f\"{path}/Beschaffungskosten.csv\", sep=\";\", decimal=\",\")\n",
        "lager_kosten = pd.read_csv(f\"{path}/Lagerkosten.csv\", sep=\";\", decimal=\",\")\n",
        "transport_beschaffung_kosten = pd.read_csv(f\"{path}/Transportkosten_Beschaffung.csv\", sep=\";\", decimal=\",\")\n",
        "transport_distribution_kosten = pd.read_csv(f\"{path}/Transportkosten_Distribution.csv\", sep=\";\", decimal=\",\")"
      ],
      "metadata": {
        "id": "NTSilRdI-_B5"
      },
      "execution_count": null,
      "outputs": []
    },
    {
      "cell_type": "code",
      "source": [
        "# Direktbedarfskoeffizienten\n",
        "koeffizienten = pd.read_csv(f\"{path}/Direktbedarfskoeffizienten.csv\", sep=\";\", decimal=\",\")"
      ],
      "metadata": {
        "id": "B5B4psTSnc9C"
      },
      "execution_count": null,
      "outputs": []
    },
    {
      "cell_type": "code",
      "source": [
        "# Nachfrage\n",
        "nachfrage = pd.read_csv(f\"{path}/Nachfrage.csv\", sep=\";\")"
      ],
      "metadata": {
        "id": "fDodTt1S_E7V"
      },
      "execution_count": null,
      "outputs": []
    },
    {
      "cell_type": "markdown",
      "metadata": {
        "id": "798a67ee"
      },
      "source": [
        "## Indexmengen"
      ]
    },
    {
      "cell_type": "code",
      "source": [
        "I = produktion_kapa[\"Werk\"].unique().tolist() # Menge der Produktionsstandorte"
      ],
      "metadata": {
        "id": "goOwHnFj_ofs"
      },
      "execution_count": null,
      "outputs": []
    },
    {
      "cell_type": "code",
      "execution_count": null,
      "metadata": {
        "id": "f9e0fd6f"
      },
      "outputs": [],
      "source": [
        "J = nachfrage[\"Markt\"].unique().tolist() #Menge der Märkte"
      ]
    },
    {
      "cell_type": "code",
      "source": [
        "L = beschaffung_kapa[\"Lieferant\"].unique().tolist() # Menge der Lieferanten"
      ],
      "metadata": {
        "id": "p2M0U5RcZWjz"
      },
      "execution_count": null,
      "outputs": []
    },
    {
      "cell_type": "code",
      "source": [
        "P = lager_kosten[\"Produkt\"].unique().tolist() # Menge der Produkte"
      ],
      "metadata": {
        "id": "ep4tx586Ze_f"
      },
      "execution_count": null,
      "outputs": []
    },
    {
      "cell_type": "code",
      "source": [
        "VP = koeffizienten[\"Vorprodukt\"].unique().tolist() # Menge der Vorprodukte"
      ],
      "metadata": {
        "id": "iqY3icPuW7jj"
      },
      "execution_count": null,
      "outputs": []
    },
    {
      "cell_type": "code",
      "source": [
        "FP = koeffizienten[\"Fertigprodukt\"].unique().tolist() # Menge der Fertigprodukte"
      ],
      "metadata": {
        "id": "-U0Bd_RKaoF0"
      },
      "execution_count": null,
      "outputs": []
    },
    {
      "cell_type": "code",
      "source": [
        "A = {}\n",
        "for vp in koeffizienten[\"Vorprodukt\"].unique():\n",
        "  A[vp] = koeffizienten[koeffizienten[\"Vorprodukt\"]==vp][\"Fertigprodukt\"].tolist()"
      ],
      "metadata": {
        "id": "0USKjKQnr77U"
      },
      "execution_count": null,
      "outputs": []
    },
    {
      "cell_type": "code",
      "source": [
        "T = beschaffung_kapa[\"Woche\"].unique().tolist() # Menge der Planungsperioden (Wochen)"
      ],
      "metadata": {
        "id": "IxhGizoPNrPB"
      },
      "execution_count": null,
      "outputs": []
    },
    {
      "cell_type": "markdown",
      "metadata": {
        "id": "d1f9cf18"
      },
      "source": [
        "## Entscheidungsvariablen"
      ]
    },
    {
      "cell_type": "code",
      "source": [
        "infinity = solver.infinity()"
      ],
      "metadata": {
        "id": "KgIvlK2iAT_a"
      },
      "execution_count": null,
      "outputs": []
    },
    {
      "cell_type": "code",
      "source": [
        "# Beschaffungsmengen der jeweiligen Vorprodukte (Flasche und Vitaminwasser)\n",
        "Z={}\n",
        "for l in L:\n",
        "  for i in I:\n",
        "    for p in VP:\n",
        "      for t in T: \n",
        "        Z[l,i,p,t] = solver.NumVar(0.0, infinity, f\"{l},{i},{p},{t}\")"
      ],
      "metadata": {
        "id": "lbpazTPleD6g"
      },
      "execution_count": null,
      "outputs": []
    },
    {
      "cell_type": "code",
      "execution_count": null,
      "metadata": {
        "id": "afb847d3"
      },
      "outputs": [],
      "source": [
        "# Produktionsmenge Fertigprodukte\n",
        "X={}\n",
        "for i in I:\n",
        "  for t in T:\n",
        "    for p in FP:\n",
        "      X[i,p,t] = solver.NumVar(0.0, infinity, f\"{i},{p},{t}\")"
      ]
    },
    {
      "cell_type": "code",
      "source": [
        "# Distributionsmenge Fertigprodukte\n",
        "Y={}\n",
        "for i in I:\n",
        "  for j in J:\n",
        "    for t in T: \n",
        "      for p in FP:\n",
        "        Y[i,j,p,t] = solver.NumVar(0.0, infinity, f\"{i},{j},{p},{t}\")"
      ],
      "metadata": {
        "id": "wMAg4KPFb3Ol"
      },
      "execution_count": null,
      "outputs": []
    },
    {
      "cell_type": "code",
      "source": [
        "# Bestand von Produkt (Vor- und Fertigprodukt)\n",
        "B={}\n",
        "for i in I:\n",
        "  for p in P:\n",
        "    for t in T:\n",
        "      B[i,p,t] = solver.NumVar(0.0, infinity, f\"{i},{p},{t}\")"
      ],
      "metadata": {
        "id": "Bsht13r6Z4QR"
      },
      "execution_count": null,
      "outputs": []
    },
    {
      "cell_type": "code",
      "source": [
        "# Nutzung von Zusatzkapazitäten\n",
        "O={}\n",
        "for i in I:\n",
        "    for t in T:\n",
        "      O[i,t] = solver.NumVar(0.0, infinity, f\"{i},{t}\")"
      ],
      "metadata": {
        "id": "shc6t3DGPKBs"
      },
      "execution_count": null,
      "outputs": []
    },
    {
      "cell_type": "code",
      "source": [
        "print('Anzahl Entscheidungsvariablen =', solver.NumVariables())"
      ],
      "metadata": {
        "colab": {
          "base_uri": "https://localhost:8080/"
        },
        "id": "hN6GY-5YBA9Y",
        "outputId": "28b14fbd-046f-467e-d201-137b30419176"
      },
      "execution_count": null,
      "outputs": [
        {
          "output_type": "stream",
          "name": "stdout",
          "text": [
            "Anzahl Entscheidungsvariablen = 360\n"
          ]
        }
      ]
    },
    {
      "cell_type": "markdown",
      "metadata": {
        "id": "b99b4ca0"
      },
      "source": [
        "## Parameter"
      ]
    },
    {
      "cell_type": "code",
      "source": [
        "# Produktionskosten\n",
        "pc = produktion_kosten.set_index([\"Werk\",\"Produkt\"]).to_dict(\"dict\")[\"Produktionskosten\"] # Kosten reguläre Produktion in €/ME\n",
        "oc = produktion_kosten.set_index([\"Werk\"]).to_dict(\"dict\")[\"Kosten_pro_Zusatzkapa\"] # Kosten Zusatzkapazitäten in €/Kapazitätseinheit"
      ],
      "metadata": {
        "id": "LnaXtWEACWoU"
      },
      "execution_count": null,
      "outputs": []
    },
    {
      "cell_type": "code",
      "source": [
        "# Beschaffungskosten\n",
        "beschaffung_kosten.set_index([\"Lieferant\",\"Produkt\"], inplace=True)\n",
        "bc = beschaffung_kosten.to_dict(\"dict\")[\"Beschaffungskosten\"] # Kosten der Beschaffung eines Produktes in €/ME"
      ],
      "metadata": {
        "id": "-k__H4DlP84P"
      },
      "execution_count": null,
      "outputs": []
    },
    {
      "cell_type": "code",
      "source": [
        "# Transportkosten\n",
        "transport_beschaffung_kosten.set_index([\"Lieferant\",\"Werk\",\"Produkt\"], inplace=True)\n",
        "btc = transport_beschaffung_kosten.to_dict(\"dict\")[\"Transportkosten\"] # Kosten Transport bei Beschaffung in €/ME\n",
        "transport_distribution_kosten.set_index([\"Werk\",\"Markt\",\"Produkt\"], inplace=True)\n",
        "dtc = transport_distribution_kosten.to_dict(\"dict\")[\"Transportkosten\"] # Kosten Transport bei Distribution in €/ME"
      ],
      "metadata": {
        "id": "YlWu7CMzDvfn"
      },
      "execution_count": null,
      "outputs": []
    },
    {
      "cell_type": "code",
      "source": [
        "# Lagerkosten\n",
        "lager_kosten.set_index([\"Produkt\"], inplace=True)\n",
        "lc = lager_kosten.to_dict(\"dict\")[\"Lagerkosten\"] # Kosten Lagerung in €/Woche/ME"
      ],
      "metadata": {
        "id": "QYV_zhQtS-Td"
      },
      "execution_count": null,
      "outputs": []
    },
    {
      "cell_type": "code",
      "source": [
        "# Nachfrage\n",
        "nachfrage.set_index([\"Markt\",\"Produkt\",\"Woche\"], inplace=True)\n",
        "d = nachfrage.to_dict(\"dict\")[\"Nachfragemenge\"]"
      ],
      "metadata": {
        "id": "QvTVt7VaD1fC"
      },
      "execution_count": null,
      "outputs": []
    },
    {
      "cell_type": "code",
      "source": [
        "# Direktbedarfskoeffiziente\n",
        "koeffizienten.set_index([\"Vorprodukt\",\"Fertigprodukt\"], inplace=True)\n",
        "a = koeffizienten.to_dict(\"dict\")[\"Direktbedarfskoeffizient\"]"
      ],
      "metadata": {
        "id": "QEISqxapofvx"
      },
      "execution_count": null,
      "outputs": []
    },
    {
      "cell_type": "code",
      "source": [
        "# Kapazitäten \n",
        "produktion_kapa.set_index([\"Werk\",\"Woche\"], inplace=True)\n",
        "pcap = produktion_kapa.to_dict(\"dict\")[\"Kapaztiät\"]\n",
        "pcap_plus = produktion_kapa.to_dict(\"dict\")[\"Max_Kapa_durch_Zusatzschichten\"]\n",
        "beschaffung_kapa.set_index([\"Lieferant\",\"Produkt\",\"Woche\"], inplace=True)\n",
        "bcap = beschaffung_kapa.to_dict(\"dict\")[\"Kapazität\"]"
      ],
      "metadata": {
        "id": "ejN0ixdyEQCw"
      },
      "execution_count": null,
      "outputs": []
    },
    {
      "cell_type": "markdown",
      "metadata": {
        "id": "9a459618"
      },
      "source": [
        "## Berechnung Lösung"
      ]
    },
    {
      "cell_type": "code",
      "execution_count": null,
      "metadata": {
        "id": "b9005832",
        "colab": {
          "base_uri": "https://localhost:8080/"
        },
        "outputId": "0d281d47-39ab-45c1-8838-83c93dbe24cb"
      },
      "outputs": [
        {
          "output_type": "stream",
          "name": "stdout",
          "text": [
            "LÖSUNG:\n",
            "Zielfunktionswert (Kosten) = 30257.260000000002\n"
          ]
        }
      ],
      "source": [
        "status = solver.Solve()\n",
        "\n",
        "if status == pywraplp.Solver.OPTIMAL:\n",
        "    print('LÖSUNG:')\n",
        "    print('Zielfunktionswert (Kosten) =', solver.Objective().Value())\n",
        "else:\n",
        "    print('Problem hat keine Lösung')"
      ]
    },
    {
      "cell_type": "code",
      "execution_count": null,
      "metadata": {
        "id": "4d84da39",
        "colab": {
          "base_uri": "https://localhost:8080/"
        },
        "outputId": "4fc1582f-55fc-431b-e1a2-dee218e505ec"
      },
      "outputs": [
        {
          "output_type": "stream",
          "name": "stdout",
          "text": [
            "Woche: 1\n",
            "Werk Curitiba\n",
            "Produktion: 82\n",
            "Fertigwarenbestand: 0\n",
            "\t\n",
            "Werk Quanzhou\n",
            "Produktion: 250\n",
            "Fertigwarenbestand: 42\n",
            "\t\n",
            "Werk East London\n",
            "Produktion: 250\n",
            "Fertigwarenbestand: 0\n",
            "\t\n",
            "\n",
            "\n",
            "Woche: 2\n",
            "Werk Curitiba\n",
            "Produktion: 72\n",
            "Fertigwarenbestand: 2\n",
            "\t\n",
            "Werk Quanzhou\n",
            "Produktion: 253\n",
            "Fertigwarenbestand: 10\n",
            "\t\n",
            "Werk East London\n",
            "Produktion: 235\n",
            "Fertigwarenbestand: 0\n",
            "\t\n",
            "\n",
            "\n",
            "Woche: 3\n",
            "Werk Curitiba\n",
            "Produktion: 78\n",
            "Fertigwarenbestand: 0\n",
            "\t\n",
            "Werk Quanzhou\n",
            "Produktion: 168\n",
            "Fertigwarenbestand: 0\n",
            "\t\n",
            "Werk East London\n",
            "Produktion: 223\n",
            "Fertigwarenbestand: 0\n",
            "\t\n",
            "\n",
            "\n",
            "Woche: 4\n",
            "Fertigwarenbestand: 0\n",
            "\t\n",
            "Werk Quanzhou\n",
            "Produktion: 212\n",
            "Fertigwarenbestand: 22\n",
            "\t\n",
            "Werk East London\n",
            "Produktion: 218\n",
            "Fertigwarenbestand: 0\n",
            "\t\n",
            "\n",
            "\n",
            "Woche: 5\n",
            "Werk Curitiba\n",
            "Produktion: 123\n",
            "Fertigwarenbestand: 0\n",
            "\t\n",
            "Werk Quanzhou\n",
            "Produktion: 150\n",
            "Fertigwarenbestand: 0\n",
            "\t\n",
            "Werk East London\n",
            "Produktion: 275\n",
            "Fertigwarenbestand: 0\n",
            "\t\n",
            "\n",
            "\n"
          ]
        }
      ],
      "source": [
        "for t in T:\n",
        "  print(f\"Woche: {t}\")\n",
        "  for i in I:\n",
        "    for p in FP:\n",
        "      val = round(X[i,p,t].solution_value())\n",
        "    if val > 0:\n",
        "      print(f\"Werk {i}\")\n",
        "      print(f\"Produktion: {val}\")\n",
        "    print(f\"Fertigwarenbestand: {round(B[i,p,t].solution_value())}\")\n",
        "    print(\"\\t\")\n",
        "  print(\"\\n\")\n"
      ]
    },
    {
      "cell_type": "code",
      "source": [],
      "metadata": {
        "id": "VTBSqfQPiK7H"
      },
      "execution_count": null,
      "outputs": []
    }
  ]
}